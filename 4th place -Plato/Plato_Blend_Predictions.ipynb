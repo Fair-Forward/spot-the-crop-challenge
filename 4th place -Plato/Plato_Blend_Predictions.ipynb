{
  "nbformat": 4,
  "nbformat_minor": 0,
  "metadata": {
    "colab": {
      "name": "Plato_Blend_Predictions.ipynb",
      "provenance": [],
      "collapsed_sections": []
    },
    "kernelspec": {
      "name": "python3",
      "display_name": "Python 3"
    },
    "language_info": {
      "name": "python"
    }
  },
  "cells": [
    {
      "cell_type": "code",
      "metadata": {
        "id": "AVU1JyLzbhQI"
      },
      "source": [
        "# Import Libraries\n",
        "import pandas as pd\n",
        "import numpy as np"
      ],
      "execution_count": 3,
      "outputs": []
    },
    {
      "cell_type": "code",
      "metadata": {
        "colab": {
          "base_uri": "https://localhost:8080/",
          "height": 241
        },
        "id": "ZwfmHZVMbtsn",
        "outputId": "5cd69a1c-0a20-41d1-e302-424aee9a8d9c"
      },
      "source": [
        "lgbm_sub = pd.read_csv('LGBM_SUB.csv')\n",
        "pytorch_sub = pd.read_csv('pytorch_tabular.csv')\n",
        "\n",
        "# Blend at 50:50 ratio\n",
        "\n",
        "blend = lgbm_sub.copy()\n",
        "blend.iloc[:, 1:] = lgbm_sub.iloc[:, 1:].to_numpy() * 0.5 + pytorch_sub.iloc[:, 1:].to_numpy() * 0.5\n",
        "blend.to_csv('final_sub.csv', index = False)\n",
        "blend.head()"
      ],
      "execution_count": 5,
      "outputs": [
        {
          "output_type": "execute_result",
          "data": {
            "text/html": [
              "<div>\n",
              "<style scoped>\n",
              "    .dataframe tbody tr th:only-of-type {\n",
              "        vertical-align: middle;\n",
              "    }\n",
              "\n",
              "    .dataframe tbody tr th {\n",
              "        vertical-align: top;\n",
              "    }\n",
              "\n",
              "    .dataframe thead th {\n",
              "        text-align: right;\n",
              "    }\n",
              "</style>\n",
              "<table border=\"1\" class=\"dataframe\">\n",
              "  <thead>\n",
              "    <tr style=\"text-align: right;\">\n",
              "      <th></th>\n",
              "      <th>Field ID</th>\n",
              "      <th>Crop_Lucerne/Medics</th>\n",
              "      <th>Crop_Planted pastures (perennial)</th>\n",
              "      <th>Crop_Fallow</th>\n",
              "      <th>Crop_Wine grapes</th>\n",
              "      <th>Crop_Weeds</th>\n",
              "      <th>Crop_Small grain grazing</th>\n",
              "      <th>Crop_Wheat</th>\n",
              "      <th>Crop_Canola</th>\n",
              "      <th>Crop_Rooibos</th>\n",
              "    </tr>\n",
              "  </thead>\n",
              "  <tbody>\n",
              "    <tr>\n",
              "      <th>0</th>\n",
              "      <td>5</td>\n",
              "      <td>0.000086</td>\n",
              "      <td>0.000711</td>\n",
              "      <td>0.000144</td>\n",
              "      <td>0.000104</td>\n",
              "      <td>0.000011</td>\n",
              "      <td>0.009454</td>\n",
              "      <td>0.987106</td>\n",
              "      <td>0.002381</td>\n",
              "      <td>0.000003</td>\n",
              "    </tr>\n",
              "    <tr>\n",
              "      <th>1</th>\n",
              "      <td>10</td>\n",
              "      <td>0.173839</td>\n",
              "      <td>0.644292</td>\n",
              "      <td>0.012120</td>\n",
              "      <td>0.001491</td>\n",
              "      <td>0.008398</td>\n",
              "      <td>0.146946</td>\n",
              "      <td>0.008967</td>\n",
              "      <td>0.003169</td>\n",
              "      <td>0.000778</td>\n",
              "    </tr>\n",
              "    <tr>\n",
              "      <th>2</th>\n",
              "      <td>11</td>\n",
              "      <td>0.173579</td>\n",
              "      <td>0.335308</td>\n",
              "      <td>0.041986</td>\n",
              "      <td>0.000611</td>\n",
              "      <td>0.011777</td>\n",
              "      <td>0.404446</td>\n",
              "      <td>0.017650</td>\n",
              "      <td>0.013441</td>\n",
              "      <td>0.001200</td>\n",
              "    </tr>\n",
              "    <tr>\n",
              "      <th>3</th>\n",
              "      <td>17</td>\n",
              "      <td>0.001751</td>\n",
              "      <td>0.015578</td>\n",
              "      <td>0.294099</td>\n",
              "      <td>0.000480</td>\n",
              "      <td>0.469278</td>\n",
              "      <td>0.166704</td>\n",
              "      <td>0.001971</td>\n",
              "      <td>0.000156</td>\n",
              "      <td>0.049985</td>\n",
              "    </tr>\n",
              "    <tr>\n",
              "      <th>4</th>\n",
              "      <td>18</td>\n",
              "      <td>0.000648</td>\n",
              "      <td>0.145746</td>\n",
              "      <td>0.069788</td>\n",
              "      <td>0.006026</td>\n",
              "      <td>0.772858</td>\n",
              "      <td>0.004268</td>\n",
              "      <td>0.000180</td>\n",
              "      <td>0.000173</td>\n",
              "      <td>0.000312</td>\n",
              "    </tr>\n",
              "  </tbody>\n",
              "</table>\n",
              "</div>"
            ],
            "text/plain": [
              "   Field ID  Crop_Lucerne/Medics  ...  Crop_Canola  Crop_Rooibos\n",
              "0         5             0.000086  ...     0.002381      0.000003\n",
              "1        10             0.173839  ...     0.003169      0.000778\n",
              "2        11             0.173579  ...     0.013441      0.001200\n",
              "3        17             0.001751  ...     0.000156      0.049985\n",
              "4        18             0.000648  ...     0.000173      0.000312\n",
              "\n",
              "[5 rows x 10 columns]"
            ]
          },
          "metadata": {},
          "execution_count": 5
        }
      ]
    }
  ]
}