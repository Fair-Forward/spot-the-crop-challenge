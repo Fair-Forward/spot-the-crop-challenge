{
  "nbformat": 4,
  "nbformat_minor": 0,
  "metadata": {
    "kernelspec": {
      "display_name": "Python 3",
      "language": "python",
      "name": "python3"
    },
    "language_info": {
      "codemirror_mode": {
        "name": "ipython",
        "version": 3
      },
      "file_extension": ".py",
      "mimetype": "text/x-python",
      "name": "python",
      "nbconvert_exporter": "python",
      "pygments_lexer": "ipython3",
      "version": "3.7.6"
    },
    "colab": {
      "name": "step4.3_Slope calculation train test.ipynb",
      "provenance": [],
      "collapsed_sections": []
    }
  },
  "cells": [
    {
      "cell_type": "code",
      "metadata": {
        "id": "9gaZUs3rNLho"
      },
      "source": [
        "!pip install scikit-learn==1.0\n",
        "!pip install xgboost==1.4.2\n",
        "!pip install catboost==0.26.1\n",
        "!pip install pandas==1.3.3\n",
        "!pip install radiant-mlhub==0.3.0\n",
        "!pip install rasterio==1.2.8\n",
        "!pip install numpy==1.21.2\n",
        "!pip install pathlib==1.0.1\n",
        "!pip install tqdm==4.62.3\n",
        "!pip install joblib==1.0.1\n",
        "!pip install matplotlib==3.4.3\n",
        "!pip install Pillow==8.3.2\n",
        "!pip install torch==1.9.1\n",
        "!pip install plotly==5.3.1\n"
      ],
      "execution_count": null,
      "outputs": []
    },
    {
      "cell_type": "code",
      "metadata": {
        "id": "JsIZmmD2M_YW"
      },
      "source": [
        "import pandas as pd\n",
        "import numpy as np\n",
        "import random\n",
        "import torch\n",
        "def seed_all(seed_value):\n",
        "    random.seed(seed_value) # Python\n",
        "    np.random.seed(seed_value) # cpu vars\n",
        "    torch.manual_seed(seed_value) # cpu  vars\n",
        "    \n",
        "    if torch.cuda.is_available(): \n",
        "        torch.cuda.manual_seed(seed_value)\n",
        "        torch.cuda.manual_seed_all(seed_value) # gpu vars\n",
        "        torch.backends.cudnn.deterministic = True  #needed\n",
        "        torch.backends.cudnn.benchmark = False\n",
        "\n",
        "seed_all(13)"
      ],
      "execution_count": null,
      "outputs": []
    },
    {
      "cell_type": "code",
      "metadata": {
        "id": "XyILW4FsM_Ya"
      },
      "source": [
        "import warnings\n",
        "warnings.filterwarnings(\"ignore\")\n",
        "\n",
        "import gc\n",
        "import pandas as pd\n",
        "import numpy as np\n",
        "from sklearn.metrics import *\n",
        "from xgboost import XGBClassifier\n",
        "from lightgbm import LGBMClassifier\n",
        "from catboost import CatBoostClassifier\n",
        "from sklearn.model_selection import StratifiedKFold\n",
        "from sklearn.metrics import roc_auc_score\n",
        "from sklearn.ensemble import VotingClassifier\n",
        "from sklearn.linear_model import LogisticRegression\n",
        "from indices_creation import *\n",
        "import re\n",
        "from tqdm import tqdm\n",
        "from sklearn.linear_model import LinearRegression"
      ],
      "execution_count": null,
      "outputs": []
    },
    {
      "cell_type": "code",
      "metadata": {
        "id": "uAA5U-xoM_Yb",
        "outputId": "79b83de7-6c0e-451b-c87e-bf463d753627"
      },
      "source": [
        "import os\n",
        "os.getcwd()"
      ],
      "execution_count": null,
      "outputs": [
        {
          "data": {
            "text/plain": [
              "'/root/sentinel2_updated'"
            ]
          },
          "execution_count": 3,
          "metadata": {},
          "output_type": "execute_result"
        }
      ]
    },
    {
      "cell_type": "code",
      "metadata": {
        "id": "ax007iFaM_Yd",
        "outputId": "c1dab7ed-b9ca-4844-ce17-e9271fb855b8"
      },
      "source": [
        "train_df_mean = pd.read_csv('/root/sentinel2_updated/Train_data_prep/merged_train_data/train_mean.csv')\n",
        "#### we need to drop 'label' and 'field_id' later in the code \n",
        "\n",
        "test_df_mean  = pd.read_csv('/root/sentinel2_updated/Test_data_prep/merged_test_data/test_mean.csv')\n",
        "#### we need to drop 'field_id' later in the code \n",
        "\n",
        "\n",
        "train_df_median = pd.read_csv('/root/sentinel2_updated/Train_data_prep/merged_train_data/train_median.csv')\n",
        "#### we need to drop  'field_id' later in the code \n",
        "\n",
        "test_df_median  = pd.read_csv('/root/sentinel2_updated/Test_data_prep/merged_test_data/test_median.csv')\n",
        "#### we need to drop 'field_id' later in the code \n",
        "\n",
        "train_size    = pd.read_csv('/root/sentinel2_updated/Train_data_prep/merged_train_data/size_of_field_train.csv')\n",
        "test_size     = pd.read_csv('/root/sentinel2_updated/Test_data_prep/merged_test_data/size_of_field_test.csv')\n",
        "\n",
        "train_size    = train_size.rename({'Field_id':'field_id'},axis=1)\n",
        "test_size     = test_size.rename({'Field_id':'field_id'},axis=1)\n",
        "\n",
        "train_df_median = train_df_mean.merge(train_size, on =['field_id'],how='left')\n",
        "test_df_median  = test_df_mean.merge(test_size, on =['field_id'],how='left')\n",
        "\n",
        "\n",
        "gc.collect()"
      ],
      "execution_count": null,
      "outputs": [
        {
          "data": {
            "text/plain": [
              "0"
            ]
          },
          "execution_count": 4,
          "metadata": {},
          "output_type": "execute_result"
        }
      ]
    },
    {
      "cell_type": "code",
      "metadata": {
        "id": "EI1IKy1HM_Ye",
        "outputId": "c2244ad2-c18b-4733-8793-2e90bb291d55"
      },
      "source": [
        "print(f'The shape of train data before outlier removal - {train_df_mean.shape}')\n",
        "\n",
        "train_df_mean = train_df_mean[train_df_mean.label.isin(list(range(1,10)))]\n",
        "\n",
        "print(f'The shape of train data after outlier removal - {train_df_mean.shape}')"
      ],
      "execution_count": null,
      "outputs": [
        {
          "name": "stdout",
          "output_type": "stream",
          "text": [
            "The shape of train data before outlier removal - (87113, 914)\n",
            "The shape of train data after outlier removal - (87073, 914)\n"
          ]
        }
      ]
    },
    {
      "cell_type": "code",
      "metadata": {
        "id": "b5osa0SLM_Yf",
        "outputId": "e8308c7a-ef2e-4cc0-f3e8-5b8563a10542"
      },
      "source": [
        "relevant_fids   = train_df_mean['field_id'].values.tolist()\n",
        "train_df_median = train_df_median[train_df_median['field_id'].isin(relevant_fids)]\n",
        "\n",
        "print(f'The shape of median train data - {train_df_median.shape} and mean train data {train_df_mean.shape}' )\n",
        "\n",
        "###extra columns in train_df_mean being 'label' "
      ],
      "execution_count": null,
      "outputs": [
        {
          "name": "stdout",
          "output_type": "stream",
          "text": [
            "The shape of median train data - (87073, 915) and mean train data (87073, 914)\n"
          ]
        }
      ]
    },
    {
      "cell_type": "code",
      "metadata": {
        "id": "SpoSfqGyM_Yf",
        "outputId": "4abf6193-a984-4694-cdf5-368fe7bd7607"
      },
      "source": [
        "fids_train = train_df_median['field_id'].values.tolist()\n",
        "fids_test  = test_df_median['field_id'].values.tolist()\n",
        "len(fids_train),len(fids_test)"
      ],
      "execution_count": null,
      "outputs": [
        {
          "data": {
            "text/plain": [
              "(87073, 35295)"
            ]
          },
          "execution_count": 7,
          "metadata": {},
          "output_type": "execute_result"
        }
      ]
    },
    {
      "cell_type": "code",
      "metadata": {
        "id": "R3jdY6PJM_Yg",
        "outputId": "0b2bfc9b-0b64-4232-832e-aceb5b5a0d1b"
      },
      "source": [
        "cols              = ['B01_','B02_','B03_','B04_','B05_','B06_','B07_','B08_','B09_','B8A_','B11_','B12_']\n",
        "\n",
        "columns_available = train_df_mean.columns.tolist()\n",
        "\n",
        "cols2consider     = []\n",
        "\n",
        "for col in cols:\n",
        "  cols2consider.extend( [c for c in columns_available if col in c])\n",
        "\n",
        "bands_with_dates = [c for c in columns_available if 'B01_' in c]\n",
        "\n",
        "dates            = [c.replace('B01_','') for c in bands_with_dates]\n",
        "\n",
        "print(f'The sample showing the commencement dates where observations were seen is {dates[:10]}')\n",
        "print(f'The sample showing the ending dates where observations were seen is {dates[-10:]}')"
      ],
      "execution_count": null,
      "outputs": [
        {
          "name": "stdout",
          "output_type": "stream",
          "text": [
            "The sample showing the commencement dates where observations were seen is ['month_04_day_01', 'month_04_day_04', 'month_04_day_11', 'month_04_day_14', 'month_04_day_21', 'month_04_day_24', 'month_05_day_01', 'month_05_day_04', 'month_05_day_11', 'month_05_day_14']\n",
            "The sample showing the ending dates where observations were seen is ['month_11_day_05', 'month_11_day_07', 'month_11_day_10', 'month_11_day_12', 'month_11_day_15', 'month_11_day_17', 'month_11_day_20', 'month_11_day_22', 'month_11_day_27', 'month_11_day_30']\n"
          ]
        }
      ]
    },
    {
      "cell_type": "code",
      "metadata": {
        "id": "CAeqhA68M_Yh"
      },
      "source": [
        "train_df_mean   = train_df_mean[cols2consider+['label']]\n",
        "test_df_mean    = test_df_mean[cols2consider]\n",
        "\n",
        "train_df_median = train_df_median[cols2consider+['size_of_field']]\n",
        "test_df_median  = test_df_median[cols2consider+['size_of_field']]\n"
      ],
      "execution_count": null,
      "outputs": []
    },
    {
      "cell_type": "code",
      "metadata": {
        "id": "Gzcke25hM_Yi"
      },
      "source": [
        "train_df_median = get_band_ndvi_red(train_df_median,dates)\n",
        "train_df_median = get_band_afri(train_df_median,dates)\n",
        "train_df_median = get_band_evi2(train_df_median,dates)\n",
        "train_df_median = get_band_ndmi(train_df_median,dates)\n",
        "train_df_median = get_band_ndvi(train_df_median,dates)\n",
        "train_df_median = get_band_evi(train_df_median,dates)\n",
        "train_df_median = get_band_bndvi(train_df_median,dates)\n",
        "train_df_median = get_band_nli(train_df_median,dates)\n",
        "# train_df_median = get_band_lci(train_df_median,dates)\n",
        "\n",
        "\n",
        "test_df_median = get_band_ndvi_red(test_df_median,dates)\n",
        "test_df_median = get_band_afri(test_df_median,dates)\n",
        "test_df_median = get_band_evi2(test_df_median,dates)\n",
        "test_df_median = get_band_ndmi(test_df_median,dates)\n",
        "test_df_median = get_band_ndvi(test_df_median,dates)\n",
        "test_df_median = get_band_evi(test_df_median,dates)\n",
        "test_df_median = get_band_bndvi(test_df_median,dates)\n",
        "test_df_median = get_band_nli(test_df_median,dates)\n",
        "# test_df_median = get_band_lci(test_df_median,dates)\n",
        "\n",
        "\n",
        "# train_df_median = train_df_median.drop(cols2consider,axis=1)\n",
        "# test_df_median  = test_df_median.drop(cols2consider,axis=1)"
      ],
      "execution_count": null,
      "outputs": []
    },
    {
      "cell_type": "code",
      "metadata": {
        "id": "rs5oG7chM_Yj"
      },
      "source": [
        "train_df_median = train_df_median.reset_index(drop=True)\n",
        "test_df_median  = test_df_median.reset_index(drop=True)"
      ],
      "execution_count": null,
      "outputs": []
    },
    {
      "cell_type": "code",
      "metadata": {
        "id": "ptK1T7qNM_Yj",
        "outputId": "d360cf19-dab6-4a7b-96c2-595ed13ac446"
      },
      "source": [
        "train_df_median.head(3)"
      ],
      "execution_count": null,
      "outputs": [
        {
          "data": {
            "text/html": [
              "<div>\n",
              "<style scoped>\n",
              "    .dataframe tbody tr th:only-of-type {\n",
              "        vertical-align: middle;\n",
              "    }\n",
              "\n",
              "    .dataframe tbody tr th {\n",
              "        vertical-align: top;\n",
              "    }\n",
              "\n",
              "    .dataframe thead th {\n",
              "        text-align: right;\n",
              "    }\n",
              "</style>\n",
              "<table border=\"1\" class=\"dataframe\">\n",
              "  <thead>\n",
              "    <tr style=\"text-align: right;\">\n",
              "      <th></th>\n",
              "      <th>B01_month_04_day_01</th>\n",
              "      <th>B01_month_04_day_04</th>\n",
              "      <th>B01_month_04_day_11</th>\n",
              "      <th>B01_month_04_day_14</th>\n",
              "      <th>B01_month_04_day_21</th>\n",
              "      <th>B01_month_04_day_24</th>\n",
              "      <th>B01_month_05_day_01</th>\n",
              "      <th>B01_month_05_day_04</th>\n",
              "      <th>B01_month_05_day_11</th>\n",
              "      <th>B01_month_05_day_14</th>\n",
              "      <th>...</th>\n",
              "      <th>month_11_day_05_NLI</th>\n",
              "      <th>month_11_day_07_NLI</th>\n",
              "      <th>month_11_day_10_NLI</th>\n",
              "      <th>month_11_day_12_NLI</th>\n",
              "      <th>month_11_day_15_NLI</th>\n",
              "      <th>month_11_day_17_NLI</th>\n",
              "      <th>month_11_day_20_NLI</th>\n",
              "      <th>month_11_day_22_NLI</th>\n",
              "      <th>month_11_day_27_NLI</th>\n",
              "      <th>month_11_day_30_NLI</th>\n",
              "    </tr>\n",
              "  </thead>\n",
              "  <tbody>\n",
              "    <tr>\n",
              "      <th>0</th>\n",
              "      <td>58.260870</td>\n",
              "      <td>NaN</td>\n",
              "      <td>8.826087</td>\n",
              "      <td>NaN</td>\n",
              "      <td>23.739130</td>\n",
              "      <td>NaN</td>\n",
              "      <td>98.565217</td>\n",
              "      <td>NaN</td>\n",
              "      <td>120.173913</td>\n",
              "      <td>NaN</td>\n",
              "      <td>...</td>\n",
              "      <td>NaN</td>\n",
              "      <td>0.979151</td>\n",
              "      <td>NaN</td>\n",
              "      <td>0.988446</td>\n",
              "      <td>NaN</td>\n",
              "      <td>0.978600</td>\n",
              "      <td>NaN</td>\n",
              "      <td>0.992188</td>\n",
              "      <td>0.978221</td>\n",
              "      <td>NaN</td>\n",
              "    </tr>\n",
              "    <tr>\n",
              "      <th>1</th>\n",
              "      <td>22.491803</td>\n",
              "      <td>NaN</td>\n",
              "      <td>24.770492</td>\n",
              "      <td>NaN</td>\n",
              "      <td>13.885246</td>\n",
              "      <td>NaN</td>\n",
              "      <td>12.344262</td>\n",
              "      <td>NaN</td>\n",
              "      <td>26.049180</td>\n",
              "      <td>NaN</td>\n",
              "      <td>...</td>\n",
              "      <td>NaN</td>\n",
              "      <td>0.987253</td>\n",
              "      <td>NaN</td>\n",
              "      <td>0.989632</td>\n",
              "      <td>NaN</td>\n",
              "      <td>0.988729</td>\n",
              "      <td>NaN</td>\n",
              "      <td>0.989941</td>\n",
              "      <td>0.990254</td>\n",
              "      <td>NaN</td>\n",
              "    </tr>\n",
              "    <tr>\n",
              "      <th>2</th>\n",
              "      <td>10.785714</td>\n",
              "      <td>NaN</td>\n",
              "      <td>10.142857</td>\n",
              "      <td>NaN</td>\n",
              "      <td>8.885714</td>\n",
              "      <td>NaN</td>\n",
              "      <td>6.385714</td>\n",
              "      <td>NaN</td>\n",
              "      <td>47.542857</td>\n",
              "      <td>NaN</td>\n",
              "      <td>...</td>\n",
              "      <td>NaN</td>\n",
              "      <td>0.993347</td>\n",
              "      <td>NaN</td>\n",
              "      <td>0.991496</td>\n",
              "      <td>NaN</td>\n",
              "      <td>0.994595</td>\n",
              "      <td>NaN</td>\n",
              "      <td>0.992143</td>\n",
              "      <td>0.994363</td>\n",
              "      <td>NaN</td>\n",
              "    </tr>\n",
              "  </tbody>\n",
              "</table>\n",
              "<p>3 rows × 1521 columns</p>\n",
              "</div>"
            ],
            "text/plain": [
              "   B01_month_04_day_01  B01_month_04_day_04  B01_month_04_day_11  \\\n",
              "0            58.260870                  NaN             8.826087   \n",
              "1            22.491803                  NaN            24.770492   \n",
              "2            10.785714                  NaN            10.142857   \n",
              "\n",
              "   B01_month_04_day_14  B01_month_04_day_21  B01_month_04_day_24  \\\n",
              "0                  NaN            23.739130                  NaN   \n",
              "1                  NaN            13.885246                  NaN   \n",
              "2                  NaN             8.885714                  NaN   \n",
              "\n",
              "   B01_month_05_day_01  B01_month_05_day_04  B01_month_05_day_11  \\\n",
              "0            98.565217                  NaN           120.173913   \n",
              "1            12.344262                  NaN            26.049180   \n",
              "2             6.385714                  NaN            47.542857   \n",
              "\n",
              "   B01_month_05_day_14  ...  month_11_day_05_NLI  month_11_day_07_NLI  \\\n",
              "0                  NaN  ...                  NaN             0.979151   \n",
              "1                  NaN  ...                  NaN             0.987253   \n",
              "2                  NaN  ...                  NaN             0.993347   \n",
              "\n",
              "   month_11_day_10_NLI  month_11_day_12_NLI  month_11_day_15_NLI  \\\n",
              "0                  NaN             0.988446                  NaN   \n",
              "1                  NaN             0.989632                  NaN   \n",
              "2                  NaN             0.991496                  NaN   \n",
              "\n",
              "   month_11_day_17_NLI  month_11_day_20_NLI  month_11_day_22_NLI  \\\n",
              "0             0.978600                  NaN             0.992188   \n",
              "1             0.988729                  NaN             0.989941   \n",
              "2             0.994595                  NaN             0.992143   \n",
              "\n",
              "   month_11_day_27_NLI  month_11_day_30_NLI  \n",
              "0             0.978221                  NaN  \n",
              "1             0.990254                  NaN  \n",
              "2             0.994363                  NaN  \n",
              "\n",
              "[3 rows x 1521 columns]"
            ]
          },
          "execution_count": 12,
          "metadata": {},
          "output_type": "execute_result"
        }
      ]
    },
    {
      "cell_type": "code",
      "metadata": {
        "id": "3-k1nPY4M_Yk"
      },
      "source": [
        "bands = ['B01_','B02_','B03_','B04_','B05_','B06_','B07_','B08_','B8A_','B09_','B11_','B12_']"
      ],
      "execution_count": null,
      "outputs": []
    },
    {
      "cell_type": "code",
      "metadata": {
        "id": "IROxn1lbM_Yk",
        "outputId": "0d747d10-2343-4376-ea75-502b1b354db1"
      },
      "source": [
        "for band in bands:\n",
        "    subtrain = train_df_median[[cols for cols in train_df_median.columns if band in cols]]\n",
        "    print(subtrain.shape)\n",
        "\n",
        "    \n",
        "        \n",
        "\n",
        "\n",
        "\n",
        "    ########## Calculating slopes for the index #############\n",
        "\n",
        "    for i in tqdm(range(subtrain.shape[0])):\n",
        "\n",
        "        for month in range(4,12):\n",
        "\n",
        "            cols_month = [col for col in subtrain.columns if (('month_0'+str(month) in col or 'month_'+str(month) in col) )]\n",
        "\n",
        "            array      = subtrain.loc[i,cols_month].dropna().values\n",
        "\n",
        "\n",
        "            model      = LinearRegression(n_jobs=-1)\n",
        "\n",
        "            _          = model.fit(np.array([range(1,len(array)+1)]).reshape(-1, 1),array)\n",
        "\n",
        "            colname    = 'month_'+str(month)+band+'_slope'\n",
        "\n",
        "            train_df_median.loc[i,colname] = model.coef_[0]\n",
        "\n",
        "    "
      ],
      "execution_count": null,
      "outputs": [
        {
          "name": "stderr",
          "output_type": "stream",
          "text": [
            "  0%|          | 3/87073 [00:00<1:04:18, 22.57it/s]"
          ]
        },
        {
          "name": "stdout",
          "output_type": "stream",
          "text": [
            "(87073, 76)\n"
          ]
        },
        {
          "name": "stderr",
          "output_type": "stream",
          "text": [
            "100%|██████████| 87073/87073 [15:55<00:00, 91.08it/s] \n",
            "  0%|          | 8/87073 [00:00<19:02, 76.18it/s]"
          ]
        },
        {
          "name": "stdout",
          "output_type": "stream",
          "text": [
            "(87073, 76)\n"
          ]
        },
        {
          "name": "stderr",
          "output_type": "stream",
          "text": [
            "100%|██████████| 87073/87073 [15:42<00:00, 92.36it/s] \n",
            "  0%|          | 12/87073 [00:00<12:21, 117.44it/s]"
          ]
        },
        {
          "name": "stdout",
          "output_type": "stream",
          "text": [
            "(87073, 76)\n"
          ]
        },
        {
          "name": "stderr",
          "output_type": "stream",
          "text": [
            "100%|██████████| 87073/87073 [15:56<00:00, 91.08it/s] \n",
            "  0%|          | 10/87073 [00:00<15:39, 92.65it/s]"
          ]
        },
        {
          "name": "stdout",
          "output_type": "stream",
          "text": [
            "(87073, 76)\n"
          ]
        },
        {
          "name": "stderr",
          "output_type": "stream",
          "text": [
            "100%|██████████| 87073/87073 [15:40<00:00, 92.54it/s] \n",
            "  0%|          | 8/87073 [00:00<20:39, 70.24it/s]"
          ]
        },
        {
          "name": "stdout",
          "output_type": "stream",
          "text": [
            "(87073, 76)\n"
          ]
        },
        {
          "name": "stderr",
          "output_type": "stream",
          "text": [
            "100%|██████████| 87073/87073 [15:07<00:00, 95.98it/s] \n",
            "  0%|          | 11/87073 [00:00<13:39, 106.29it/s]"
          ]
        },
        {
          "name": "stdout",
          "output_type": "stream",
          "text": [
            "(87073, 76)\n"
          ]
        },
        {
          "name": "stderr",
          "output_type": "stream",
          "text": [
            "100%|██████████| 87073/87073 [15:07<00:00, 95.92it/s] \n",
            "  0%|          | 10/87073 [00:00<15:51, 91.54it/s]"
          ]
        },
        {
          "name": "stdout",
          "output_type": "stream",
          "text": [
            "(87073, 76)\n"
          ]
        },
        {
          "name": "stderr",
          "output_type": "stream",
          "text": [
            "100%|██████████| 87073/87073 [15:54<00:00, 91.24it/s] \n",
            "  0%|          | 13/87073 [00:00<11:57, 121.35it/s]"
          ]
        },
        {
          "name": "stdout",
          "output_type": "stream",
          "text": [
            "(87073, 76)\n"
          ]
        },
        {
          "name": "stderr",
          "output_type": "stream",
          "text": [
            "100%|██████████| 87073/87073 [15:46<00:00, 92.03it/s] \n",
            "  0%|          | 12/87073 [00:00<13:01, 111.38it/s]"
          ]
        },
        {
          "name": "stdout",
          "output_type": "stream",
          "text": [
            "(87073, 76)\n"
          ]
        },
        {
          "name": "stderr",
          "output_type": "stream",
          "text": [
            "100%|██████████| 87073/87073 [15:25<00:00, 94.05it/s] \n",
            "  0%|          | 8/87073 [00:00<18:21, 79.01it/s]"
          ]
        },
        {
          "name": "stdout",
          "output_type": "stream",
          "text": [
            "(87073, 76)\n"
          ]
        },
        {
          "name": "stderr",
          "output_type": "stream",
          "text": [
            "100%|██████████| 87073/87073 [13:58<00:00, 103.90it/s]\n",
            "  0%|          | 7/87073 [00:00<21:41, 66.88it/s]"
          ]
        },
        {
          "name": "stdout",
          "output_type": "stream",
          "text": [
            "(87073, 76)\n"
          ]
        },
        {
          "name": "stderr",
          "output_type": "stream",
          "text": [
            "100%|██████████| 87073/87073 [13:16<00:00, 109.36it/s]\n",
            "  0%|          | 12/87073 [00:00<12:07, 119.69it/s]"
          ]
        },
        {
          "name": "stdout",
          "output_type": "stream",
          "text": [
            "(87073, 76)\n"
          ]
        },
        {
          "name": "stderr",
          "output_type": "stream",
          "text": [
            "100%|██████████| 87073/87073 [13:58<00:00, 103.90it/s]\n"
          ]
        }
      ]
    },
    {
      "cell_type": "code",
      "metadata": {
        "id": "nygL_ZDxM_Yl"
      },
      "source": [
        "train_df_median['field_id'] = fids_train "
      ],
      "execution_count": null,
      "outputs": []
    },
    {
      "cell_type": "code",
      "metadata": {
        "id": "FmuLt1_xM_Yl",
        "outputId": "958379d2-1eb8-47e2-9336-9e408f6fad39"
      },
      "source": [
        "for band in bands:\n",
        "    subtest = test_df_median[[cols for cols in test_df_median.columns if band in cols]]\n",
        "    print(subtest.shape)\n",
        "\n",
        "    ########## Calculating slopes for the index #############\n",
        "\n",
        "    for i in tqdm(range(subtest.shape[0])):\n",
        "\n",
        "        for month in range(4,12):\n",
        "\n",
        "            cols_month = [col for col in subtest.columns if (('month_0'+str(month) in col or 'month_'+str(month) in col) )]\n",
        "\n",
        "            array      = subtest.loc[i,cols_month].dropna().values\n",
        "\n",
        "\n",
        "            model      = LinearRegression()\n",
        "\n",
        "            _          = model.fit(np.array([range(1,len(array)+1)]).reshape(-1, 1),array)\n",
        "\n",
        "            colname    = 'month_'+str(month)+band+'_slope'\n",
        "\n",
        "            test_df_median.loc[i,colname] = model.coef_[0]\n",
        "\n",
        "    "
      ],
      "execution_count": null,
      "outputs": [
        {
          "name": "stderr",
          "output_type": "stream",
          "text": [
            "  0%|          | 13/35295 [00:00<04:41, 125.24it/s]"
          ]
        },
        {
          "name": "stdout",
          "output_type": "stream",
          "text": [
            "(35295, 76)\n"
          ]
        },
        {
          "name": "stderr",
          "output_type": "stream",
          "text": [
            "100%|██████████| 35295/35295 [05:46<00:00, 101.94it/s]\n",
            "  0%|          | 10/35295 [00:00<06:13, 94.57it/s]"
          ]
        },
        {
          "name": "stdout",
          "output_type": "stream",
          "text": [
            "(35295, 76)\n"
          ]
        },
        {
          "name": "stderr",
          "output_type": "stream",
          "text": [
            "100%|██████████| 35295/35295 [05:47<00:00, 101.57it/s]\n",
            "  0%|          | 12/35295 [00:00<05:11, 113.42it/s]"
          ]
        },
        {
          "name": "stdout",
          "output_type": "stream",
          "text": [
            "(35295, 76)\n"
          ]
        },
        {
          "name": "stderr",
          "output_type": "stream",
          "text": [
            "100%|██████████| 35295/35295 [05:42<00:00, 103.14it/s]\n",
            "  0%|          | 10/35295 [00:00<06:12, 94.80it/s]"
          ]
        },
        {
          "name": "stdout",
          "output_type": "stream",
          "text": [
            "(35295, 76)\n"
          ]
        },
        {
          "name": "stderr",
          "output_type": "stream",
          "text": [
            "100%|██████████| 35295/35295 [05:49<00:00, 100.91it/s]\n",
            "  0%|          | 8/35295 [00:00<07:21, 79.97it/s]"
          ]
        },
        {
          "name": "stdout",
          "output_type": "stream",
          "text": [
            "(35295, 76)\n"
          ]
        },
        {
          "name": "stderr",
          "output_type": "stream",
          "text": [
            "100%|██████████| 35295/35295 [05:43<00:00, 102.77it/s]\n",
            "  0%|          | 13/35295 [00:00<04:32, 129.38it/s]"
          ]
        },
        {
          "name": "stdout",
          "output_type": "stream",
          "text": [
            "(35295, 76)\n"
          ]
        },
        {
          "name": "stderr",
          "output_type": "stream",
          "text": [
            "100%|██████████| 35295/35295 [05:46<00:00, 101.75it/s]\n",
            "  0%|          | 9/35295 [00:00<06:37, 88.70it/s]"
          ]
        },
        {
          "name": "stdout",
          "output_type": "stream",
          "text": [
            "(35295, 76)\n"
          ]
        },
        {
          "name": "stderr",
          "output_type": "stream",
          "text": [
            "100%|██████████| 35295/35295 [05:44<00:00, 102.49it/s]\n",
            "  0%|          | 11/35295 [00:00<05:43, 102.86it/s]"
          ]
        },
        {
          "name": "stdout",
          "output_type": "stream",
          "text": [
            "(35295, 76)\n"
          ]
        },
        {
          "name": "stderr",
          "output_type": "stream",
          "text": [
            "100%|██████████| 35295/35295 [05:40<00:00, 103.53it/s]\n",
            "  0%|          | 12/35295 [00:00<04:55, 119.59it/s]"
          ]
        },
        {
          "name": "stdout",
          "output_type": "stream",
          "text": [
            "(35295, 76)\n"
          ]
        },
        {
          "name": "stderr",
          "output_type": "stream",
          "text": [
            "100%|██████████| 35295/35295 [05:54<00:00, 99.57it/s] \n",
            "  0%|          | 9/35295 [00:00<06:49, 86.09it/s]"
          ]
        },
        {
          "name": "stdout",
          "output_type": "stream",
          "text": [
            "(35295, 76)\n"
          ]
        },
        {
          "name": "stderr",
          "output_type": "stream",
          "text": [
            "100%|██████████| 35295/35295 [05:45<00:00, 102.03it/s]\n",
            "  0%|          | 9/35295 [00:00<07:03, 83.32it/s]"
          ]
        },
        {
          "name": "stdout",
          "output_type": "stream",
          "text": [
            "(35295, 76)\n"
          ]
        },
        {
          "name": "stderr",
          "output_type": "stream",
          "text": [
            "100%|██████████| 35295/35295 [05:54<00:00, 99.42it/s] \n",
            "  0%|          | 12/35295 [00:00<05:00, 117.38it/s]"
          ]
        },
        {
          "name": "stdout",
          "output_type": "stream",
          "text": [
            "(35295, 76)\n"
          ]
        },
        {
          "name": "stderr",
          "output_type": "stream",
          "text": [
            "100%|██████████| 35295/35295 [05:50<00:00, 100.64it/s]\n"
          ]
        }
      ]
    },
    {
      "cell_type": "code",
      "metadata": {
        "id": "wY2qZtcoM_Ym"
      },
      "source": [
        "test_df_median['field_id'] = fids_test "
      ],
      "execution_count": null,
      "outputs": []
    },
    {
      "cell_type": "code",
      "metadata": {
        "id": "lvyYqSq_M_Ym"
      },
      "source": [
        "train_df_median.to_csv('train_with_slopes.csv',index=False)\n",
        "test_df_median.to_csv('test_with_slopes.csv',index=False)"
      ],
      "execution_count": null,
      "outputs": []
    },
    {
      "cell_type": "code",
      "metadata": {
        "id": "8WKTNTOIM_Ym",
        "outputId": "7f8cb5c5-0564-40e1-d550-ca7d65a0bcec"
      },
      "source": [
        "train_df_median"
      ],
      "execution_count": null,
      "outputs": [
        {
          "data": {
            "text/html": [
              "<div>\n",
              "<style scoped>\n",
              "    .dataframe tbody tr th:only-of-type {\n",
              "        vertical-align: middle;\n",
              "    }\n",
              "\n",
              "    .dataframe tbody tr th {\n",
              "        vertical-align: top;\n",
              "    }\n",
              "\n",
              "    .dataframe thead th {\n",
              "        text-align: right;\n",
              "    }\n",
              "</style>\n",
              "<table border=\"1\" class=\"dataframe\">\n",
              "  <thead>\n",
              "    <tr style=\"text-align: right;\">\n",
              "      <th></th>\n",
              "      <th>B01_month_04_day_01</th>\n",
              "      <th>B01_month_04_day_04</th>\n",
              "      <th>B01_month_04_day_11</th>\n",
              "      <th>B01_month_04_day_14</th>\n",
              "      <th>B01_month_04_day_21</th>\n",
              "      <th>B01_month_04_day_24</th>\n",
              "      <th>B01_month_05_day_01</th>\n",
              "      <th>B01_month_05_day_04</th>\n",
              "      <th>B01_month_05_day_11</th>\n",
              "      <th>B01_month_05_day_14</th>\n",
              "      <th>...</th>\n",
              "      <th>month_11B11__slope</th>\n",
              "      <th>month_4B12__slope</th>\n",
              "      <th>month_5B12__slope</th>\n",
              "      <th>month_6B12__slope</th>\n",
              "      <th>month_7B12__slope</th>\n",
              "      <th>month_8B12__slope</th>\n",
              "      <th>month_9B12__slope</th>\n",
              "      <th>month_10B12__slope</th>\n",
              "      <th>month_11B12__slope</th>\n",
              "      <th>field_id</th>\n",
              "    </tr>\n",
              "  </thead>\n",
              "  <tbody>\n",
              "    <tr>\n",
              "      <th>0</th>\n",
              "      <td>58.260870</td>\n",
              "      <td>NaN</td>\n",
              "      <td>8.826087</td>\n",
              "      <td>NaN</td>\n",
              "      <td>23.739130</td>\n",
              "      <td>NaN</td>\n",
              "      <td>98.565217</td>\n",
              "      <td>NaN</td>\n",
              "      <td>120.173913</td>\n",
              "      <td>NaN</td>\n",
              "      <td>...</td>\n",
              "      <td>-0.997516</td>\n",
              "      <td>-2.347826</td>\n",
              "      <td>2.769565</td>\n",
              "      <td>-2.369565</td>\n",
              "      <td>3.535404</td>\n",
              "      <td>0.539130</td>\n",
              "      <td>-5.400000</td>\n",
              "      <td>-10.731677</td>\n",
              "      <td>-1.490683</td>\n",
              "      <td>2.0</td>\n",
              "    </tr>\n",
              "    <tr>\n",
              "      <th>1</th>\n",
              "      <td>22.491803</td>\n",
              "      <td>NaN</td>\n",
              "      <td>24.770492</td>\n",
              "      <td>NaN</td>\n",
              "      <td>13.885246</td>\n",
              "      <td>NaN</td>\n",
              "      <td>12.344262</td>\n",
              "      <td>NaN</td>\n",
              "      <td>26.049180</td>\n",
              "      <td>NaN</td>\n",
              "      <td>...</td>\n",
              "      <td>6.793911</td>\n",
              "      <td>-7.868852</td>\n",
              "      <td>1.709836</td>\n",
              "      <td>-0.016393</td>\n",
              "      <td>2.288525</td>\n",
              "      <td>8.373770</td>\n",
              "      <td>8.201639</td>\n",
              "      <td>-5.334895</td>\n",
              "      <td>4.158782</td>\n",
              "      <td>29.0</td>\n",
              "    </tr>\n",
              "    <tr>\n",
              "      <th>2</th>\n",
              "      <td>10.785714</td>\n",
              "      <td>NaN</td>\n",
              "      <td>10.142857</td>\n",
              "      <td>NaN</td>\n",
              "      <td>8.885714</td>\n",
              "      <td>NaN</td>\n",
              "      <td>6.385714</td>\n",
              "      <td>NaN</td>\n",
              "      <td>47.542857</td>\n",
              "      <td>NaN</td>\n",
              "      <td>...</td>\n",
              "      <td>-0.140000</td>\n",
              "      <td>0.814286</td>\n",
              "      <td>11.794286</td>\n",
              "      <td>21.921429</td>\n",
              "      <td>0.957959</td>\n",
              "      <td>3.990204</td>\n",
              "      <td>-6.908571</td>\n",
              "      <td>-5.638776</td>\n",
              "      <td>-1.568163</td>\n",
              "      <td>78.0</td>\n",
              "    </tr>\n",
              "    <tr>\n",
              "      <th>3</th>\n",
              "      <td>9.940594</td>\n",
              "      <td>NaN</td>\n",
              "      <td>9.039604</td>\n",
              "      <td>NaN</td>\n",
              "      <td>8.811881</td>\n",
              "      <td>NaN</td>\n",
              "      <td>10.772277</td>\n",
              "      <td>NaN</td>\n",
              "      <td>161.980198</td>\n",
              "      <td>NaN</td>\n",
              "      <td>...</td>\n",
              "      <td>-10.843847</td>\n",
              "      <td>0.920792</td>\n",
              "      <td>2.770297</td>\n",
              "      <td>44.272277</td>\n",
              "      <td>2.159264</td>\n",
              "      <td>11.214710</td>\n",
              "      <td>4.733663</td>\n",
              "      <td>-0.563225</td>\n",
              "      <td>-10.149929</td>\n",
              "      <td>92.0</td>\n",
              "    </tr>\n",
              "    <tr>\n",
              "      <th>4</th>\n",
              "      <td>9.922936</td>\n",
              "      <td>NaN</td>\n",
              "      <td>7.808257</td>\n",
              "      <td>NaN</td>\n",
              "      <td>7.249541</td>\n",
              "      <td>NaN</td>\n",
              "      <td>5.009174</td>\n",
              "      <td>NaN</td>\n",
              "      <td>136.221101</td>\n",
              "      <td>NaN</td>\n",
              "      <td>...</td>\n",
              "      <td>-0.300105</td>\n",
              "      <td>0.096330</td>\n",
              "      <td>3.175138</td>\n",
              "      <td>23.994037</td>\n",
              "      <td>5.240288</td>\n",
              "      <td>15.775072</td>\n",
              "      <td>-9.950550</td>\n",
              "      <td>-9.025767</td>\n",
              "      <td>-0.985688</td>\n",
              "      <td>104.0</td>\n",
              "    </tr>\n",
              "    <tr>\n",
              "      <th>...</th>\n",
              "      <td>...</td>\n",
              "      <td>...</td>\n",
              "      <td>...</td>\n",
              "      <td>...</td>\n",
              "      <td>...</td>\n",
              "      <td>...</td>\n",
              "      <td>...</td>\n",
              "      <td>...</td>\n",
              "      <td>...</td>\n",
              "      <td>...</td>\n",
              "      <td>...</td>\n",
              "      <td>...</td>\n",
              "      <td>...</td>\n",
              "      <td>...</td>\n",
              "      <td>...</td>\n",
              "      <td>...</td>\n",
              "      <td>...</td>\n",
              "      <td>...</td>\n",
              "      <td>...</td>\n",
              "      <td>...</td>\n",
              "      <td>...</td>\n",
              "    </tr>\n",
              "    <tr>\n",
              "      <th>87068</th>\n",
              "      <td>33.291785</td>\n",
              "      <td>0.000000</td>\n",
              "      <td>23.810198</td>\n",
              "      <td>0.000000</td>\n",
              "      <td>22.005666</td>\n",
              "      <td>NaN</td>\n",
              "      <td>95.643059</td>\n",
              "      <td>NaN</td>\n",
              "      <td>40.201133</td>\n",
              "      <td>NaN</td>\n",
              "      <td>...</td>\n",
              "      <td>0.836364</td>\n",
              "      <td>0.830595</td>\n",
              "      <td>-5.420397</td>\n",
              "      <td>15.143667</td>\n",
              "      <td>-2.427059</td>\n",
              "      <td>1.603201</td>\n",
              "      <td>7.999433</td>\n",
              "      <td>-6.082960</td>\n",
              "      <td>0.229977</td>\n",
              "      <td>122371.0</td>\n",
              "    </tr>\n",
              "    <tr>\n",
              "      <th>87069</th>\n",
              "      <td>13.775216</td>\n",
              "      <td>224.293948</td>\n",
              "      <td>11.123919</td>\n",
              "      <td>6.694524</td>\n",
              "      <td>9.873199</td>\n",
              "      <td>6.420749</td>\n",
              "      <td>7.112392</td>\n",
              "      <td>5.334294</td>\n",
              "      <td>186.092219</td>\n",
              "      <td>3.893372</td>\n",
              "      <td>...</td>\n",
              "      <td>3.716296</td>\n",
              "      <td>-0.734953</td>\n",
              "      <td>5.104673</td>\n",
              "      <td>1.983121</td>\n",
              "      <td>-0.087705</td>\n",
              "      <td>1.829649</td>\n",
              "      <td>-1.447887</td>\n",
              "      <td>0.256864</td>\n",
              "      <td>2.671077</td>\n",
              "      <td>122381.0</td>\n",
              "    </tr>\n",
              "    <tr>\n",
              "      <th>87070</th>\n",
              "      <td>15.895765</td>\n",
              "      <td>NaN</td>\n",
              "      <td>16.146580</td>\n",
              "      <td>NaN</td>\n",
              "      <td>16.876221</td>\n",
              "      <td>NaN</td>\n",
              "      <td>8.044517</td>\n",
              "      <td>NaN</td>\n",
              "      <td>138.827362</td>\n",
              "      <td>NaN</td>\n",
              "      <td>...</td>\n",
              "      <td>0.770436</td>\n",
              "      <td>11.784473</td>\n",
              "      <td>21.609121</td>\n",
              "      <td>19.607492</td>\n",
              "      <td>5.825159</td>\n",
              "      <td>8.607445</td>\n",
              "      <td>0.428122</td>\n",
              "      <td>-1.382690</td>\n",
              "      <td>0.795409</td>\n",
              "      <td>122440.0</td>\n",
              "    </tr>\n",
              "    <tr>\n",
              "      <th>87071</th>\n",
              "      <td>20.438291</td>\n",
              "      <td>0.000000</td>\n",
              "      <td>19.069620</td>\n",
              "      <td>0.000000</td>\n",
              "      <td>16.447785</td>\n",
              "      <td>NaN</td>\n",
              "      <td>118.457278</td>\n",
              "      <td>NaN</td>\n",
              "      <td>109.474684</td>\n",
              "      <td>NaN</td>\n",
              "      <td>...</td>\n",
              "      <td>-0.507192</td>\n",
              "      <td>1.308861</td>\n",
              "      <td>-9.946361</td>\n",
              "      <td>11.215371</td>\n",
              "      <td>-2.069659</td>\n",
              "      <td>1.547988</td>\n",
              "      <td>9.306962</td>\n",
              "      <td>-6.703481</td>\n",
              "      <td>-0.285256</td>\n",
              "      <td>122631.0</td>\n",
              "    </tr>\n",
              "    <tr>\n",
              "      <th>87072</th>\n",
              "      <td>43.272727</td>\n",
              "      <td>NaN</td>\n",
              "      <td>18.818182</td>\n",
              "      <td>NaN</td>\n",
              "      <td>18.818182</td>\n",
              "      <td>NaN</td>\n",
              "      <td>80.363636</td>\n",
              "      <td>NaN</td>\n",
              "      <td>16.545455</td>\n",
              "      <td>NaN</td>\n",
              "      <td>...</td>\n",
              "      <td>13.628571</td>\n",
              "      <td>-4.318182</td>\n",
              "      <td>-6.827273</td>\n",
              "      <td>-2.090909</td>\n",
              "      <td>0.428571</td>\n",
              "      <td>7.267532</td>\n",
              "      <td>9.945455</td>\n",
              "      <td>-8.651948</td>\n",
              "      <td>10.812987</td>\n",
              "      <td>122713.0</td>\n",
              "    </tr>\n",
              "  </tbody>\n",
              "</table>\n",
              "<p>87073 rows × 1618 columns</p>\n",
              "</div>"
            ],
            "text/plain": [
              "       B01_month_04_day_01  B01_month_04_day_04  B01_month_04_day_11  \\\n",
              "0                58.260870                  NaN             8.826087   \n",
              "1                22.491803                  NaN            24.770492   \n",
              "2                10.785714                  NaN            10.142857   \n",
              "3                 9.940594                  NaN             9.039604   \n",
              "4                 9.922936                  NaN             7.808257   \n",
              "...                    ...                  ...                  ...   \n",
              "87068            33.291785             0.000000            23.810198   \n",
              "87069            13.775216           224.293948            11.123919   \n",
              "87070            15.895765                  NaN            16.146580   \n",
              "87071            20.438291             0.000000            19.069620   \n",
              "87072            43.272727                  NaN            18.818182   \n",
              "\n",
              "       B01_month_04_day_14  B01_month_04_day_21  B01_month_04_day_24  \\\n",
              "0                      NaN            23.739130                  NaN   \n",
              "1                      NaN            13.885246                  NaN   \n",
              "2                      NaN             8.885714                  NaN   \n",
              "3                      NaN             8.811881                  NaN   \n",
              "4                      NaN             7.249541                  NaN   \n",
              "...                    ...                  ...                  ...   \n",
              "87068             0.000000            22.005666                  NaN   \n",
              "87069             6.694524             9.873199             6.420749   \n",
              "87070                  NaN            16.876221                  NaN   \n",
              "87071             0.000000            16.447785                  NaN   \n",
              "87072                  NaN            18.818182                  NaN   \n",
              "\n",
              "       B01_month_05_day_01  B01_month_05_day_04  B01_month_05_day_11  \\\n",
              "0                98.565217                  NaN           120.173913   \n",
              "1                12.344262                  NaN            26.049180   \n",
              "2                 6.385714                  NaN            47.542857   \n",
              "3                10.772277                  NaN           161.980198   \n",
              "4                 5.009174                  NaN           136.221101   \n",
              "...                    ...                  ...                  ...   \n",
              "87068            95.643059                  NaN            40.201133   \n",
              "87069             7.112392             5.334294           186.092219   \n",
              "87070             8.044517                  NaN           138.827362   \n",
              "87071           118.457278                  NaN           109.474684   \n",
              "87072            80.363636                  NaN            16.545455   \n",
              "\n",
              "       B01_month_05_day_14  ...  month_11B11__slope  month_4B12__slope  \\\n",
              "0                      NaN  ...           -0.997516          -2.347826   \n",
              "1                      NaN  ...            6.793911          -7.868852   \n",
              "2                      NaN  ...           -0.140000           0.814286   \n",
              "3                      NaN  ...          -10.843847           0.920792   \n",
              "4                      NaN  ...           -0.300105           0.096330   \n",
              "...                    ...  ...                 ...                ...   \n",
              "87068                  NaN  ...            0.836364           0.830595   \n",
              "87069             3.893372  ...            3.716296          -0.734953   \n",
              "87070                  NaN  ...            0.770436          11.784473   \n",
              "87071                  NaN  ...           -0.507192           1.308861   \n",
              "87072                  NaN  ...           13.628571          -4.318182   \n",
              "\n",
              "       month_5B12__slope  month_6B12__slope  month_7B12__slope  \\\n",
              "0               2.769565          -2.369565           3.535404   \n",
              "1               1.709836          -0.016393           2.288525   \n",
              "2              11.794286          21.921429           0.957959   \n",
              "3               2.770297          44.272277           2.159264   \n",
              "4               3.175138          23.994037           5.240288   \n",
              "...                  ...                ...                ...   \n",
              "87068          -5.420397          15.143667          -2.427059   \n",
              "87069           5.104673           1.983121          -0.087705   \n",
              "87070          21.609121          19.607492           5.825159   \n",
              "87071          -9.946361          11.215371          -2.069659   \n",
              "87072          -6.827273          -2.090909           0.428571   \n",
              "\n",
              "       month_8B12__slope  month_9B12__slope  month_10B12__slope  \\\n",
              "0               0.539130          -5.400000          -10.731677   \n",
              "1               8.373770           8.201639           -5.334895   \n",
              "2               3.990204          -6.908571           -5.638776   \n",
              "3              11.214710           4.733663           -0.563225   \n",
              "4              15.775072          -9.950550           -9.025767   \n",
              "...                  ...                ...                 ...   \n",
              "87068           1.603201           7.999433           -6.082960   \n",
              "87069           1.829649          -1.447887            0.256864   \n",
              "87070           8.607445           0.428122           -1.382690   \n",
              "87071           1.547988           9.306962           -6.703481   \n",
              "87072           7.267532           9.945455           -8.651948   \n",
              "\n",
              "       month_11B12__slope  field_id  \n",
              "0               -1.490683       2.0  \n",
              "1                4.158782      29.0  \n",
              "2               -1.568163      78.0  \n",
              "3              -10.149929      92.0  \n",
              "4               -0.985688     104.0  \n",
              "...                   ...       ...  \n",
              "87068            0.229977  122371.0  \n",
              "87069            2.671077  122381.0  \n",
              "87070            0.795409  122440.0  \n",
              "87071           -0.285256  122631.0  \n",
              "87072           10.812987  122713.0  \n",
              "\n",
              "[87073 rows x 1618 columns]"
            ]
          },
          "execution_count": 20,
          "metadata": {},
          "output_type": "execute_result"
        }
      ]
    },
    {
      "cell_type": "code",
      "metadata": {
        "id": "w2hQj45LM_Ym",
        "outputId": "2e3c960e-f72c-4590-e26c-420b67a8e66f"
      },
      "source": [
        "test_df_median"
      ],
      "execution_count": null,
      "outputs": [
        {
          "data": {
            "text/html": [
              "<div>\n",
              "<style scoped>\n",
              "    .dataframe tbody tr th:only-of-type {\n",
              "        vertical-align: middle;\n",
              "    }\n",
              "\n",
              "    .dataframe tbody tr th {\n",
              "        vertical-align: top;\n",
              "    }\n",
              "\n",
              "    .dataframe thead th {\n",
              "        text-align: right;\n",
              "    }\n",
              "</style>\n",
              "<table border=\"1\" class=\"dataframe\">\n",
              "  <thead>\n",
              "    <tr style=\"text-align: right;\">\n",
              "      <th></th>\n",
              "      <th>B01_month_04_day_01</th>\n",
              "      <th>B01_month_04_day_04</th>\n",
              "      <th>B01_month_04_day_11</th>\n",
              "      <th>B01_month_04_day_14</th>\n",
              "      <th>B01_month_04_day_21</th>\n",
              "      <th>B01_month_04_day_24</th>\n",
              "      <th>B01_month_05_day_01</th>\n",
              "      <th>B01_month_05_day_04</th>\n",
              "      <th>B01_month_05_day_11</th>\n",
              "      <th>B01_month_05_day_14</th>\n",
              "      <th>...</th>\n",
              "      <th>month_11B11__slope</th>\n",
              "      <th>month_4B12__slope</th>\n",
              "      <th>month_5B12__slope</th>\n",
              "      <th>month_6B12__slope</th>\n",
              "      <th>month_7B12__slope</th>\n",
              "      <th>month_8B12__slope</th>\n",
              "      <th>month_9B12__slope</th>\n",
              "      <th>month_10B12__slope</th>\n",
              "      <th>month_11B12__slope</th>\n",
              "      <th>field_id</th>\n",
              "    </tr>\n",
              "  </thead>\n",
              "  <tbody>\n",
              "    <tr>\n",
              "      <th>0</th>\n",
              "      <td>73.701354</td>\n",
              "      <td>100.326142</td>\n",
              "      <td>26.533841</td>\n",
              "      <td>19.632826</td>\n",
              "      <td>24.760152</td>\n",
              "      <td>20.890440</td>\n",
              "      <td>36.981810</td>\n",
              "      <td>19.036802</td>\n",
              "      <td>170.071489</td>\n",
              "      <td>18.530457</td>\n",
              "      <td>...</td>\n",
              "      <td>1.684410</td>\n",
              "      <td>9.286137</td>\n",
              "      <td>9.776499</td>\n",
              "      <td>3.954351</td>\n",
              "      <td>-1.987706</td>\n",
              "      <td>-2.634948</td>\n",
              "      <td>4.798470</td>\n",
              "      <td>1.438071</td>\n",
              "      <td>0.324177</td>\n",
              "      <td>30.0</td>\n",
              "    </tr>\n",
              "    <tr>\n",
              "      <th>1</th>\n",
              "      <td>74.124260</td>\n",
              "      <td>NaN</td>\n",
              "      <td>18.011834</td>\n",
              "      <td>NaN</td>\n",
              "      <td>16.532544</td>\n",
              "      <td>NaN</td>\n",
              "      <td>19.656805</td>\n",
              "      <td>NaN</td>\n",
              "      <td>242.443787</td>\n",
              "      <td>NaN</td>\n",
              "      <td>...</td>\n",
              "      <td>2.924260</td>\n",
              "      <td>-2.547337</td>\n",
              "      <td>6.684024</td>\n",
              "      <td>-7.428994</td>\n",
              "      <td>2.200507</td>\n",
              "      <td>4.846323</td>\n",
              "      <td>7.144379</td>\n",
              "      <td>-1.900930</td>\n",
              "      <td>2.484869</td>\n",
              "      <td>56.0</td>\n",
              "    </tr>\n",
              "    <tr>\n",
              "      <th>2</th>\n",
              "      <td>34.531390</td>\n",
              "      <td>NaN</td>\n",
              "      <td>21.071749</td>\n",
              "      <td>NaN</td>\n",
              "      <td>21.556054</td>\n",
              "      <td>NaN</td>\n",
              "      <td>15.105381</td>\n",
              "      <td>NaN</td>\n",
              "      <td>76.939462</td>\n",
              "      <td>NaN</td>\n",
              "      <td>...</td>\n",
              "      <td>6.409289</td>\n",
              "      <td>19.115471</td>\n",
              "      <td>13.808969</td>\n",
              "      <td>-2.968610</td>\n",
              "      <td>-0.609994</td>\n",
              "      <td>8.870980</td>\n",
              "      <td>6.200000</td>\n",
              "      <td>-1.275593</td>\n",
              "      <td>7.583152</td>\n",
              "      <td>60.0</td>\n",
              "    </tr>\n",
              "    <tr>\n",
              "      <th>3</th>\n",
              "      <td>20.033514</td>\n",
              "      <td>NaN</td>\n",
              "      <td>15.532775</td>\n",
              "      <td>NaN</td>\n",
              "      <td>15.319862</td>\n",
              "      <td>NaN</td>\n",
              "      <td>20.195663</td>\n",
              "      <td>NaN</td>\n",
              "      <td>255.000000</td>\n",
              "      <td>NaN</td>\n",
              "      <td>...</td>\n",
              "      <td>4.670253</td>\n",
              "      <td>3.238788</td>\n",
              "      <td>7.789946</td>\n",
              "      <td>-17.890094</td>\n",
              "      <td>1.354348</td>\n",
              "      <td>-22.003422</td>\n",
              "      <td>-1.434697</td>\n",
              "      <td>-0.511075</td>\n",
              "      <td>0.487615</td>\n",
              "      <td>97.0</td>\n",
              "    </tr>\n",
              "    <tr>\n",
              "      <th>4</th>\n",
              "      <td>26.327756</td>\n",
              "      <td>255.000000</td>\n",
              "      <td>12.861220</td>\n",
              "      <td>14.796260</td>\n",
              "      <td>12.991142</td>\n",
              "      <td>12.741142</td>\n",
              "      <td>187.115157</td>\n",
              "      <td>11.292323</td>\n",
              "      <td>75.319882</td>\n",
              "      <td>12.980315</td>\n",
              "      <td>...</td>\n",
              "      <td>0.547754</td>\n",
              "      <td>0.267323</td>\n",
              "      <td>3.609533</td>\n",
              "      <td>-0.389651</td>\n",
              "      <td>-0.611234</td>\n",
              "      <td>0.311653</td>\n",
              "      <td>-2.571834</td>\n",
              "      <td>0.316042</td>\n",
              "      <td>-0.213985</td>\n",
              "      <td>103.0</td>\n",
              "    </tr>\n",
              "    <tr>\n",
              "      <th>...</th>\n",
              "      <td>...</td>\n",
              "      <td>...</td>\n",
              "      <td>...</td>\n",
              "      <td>...</td>\n",
              "      <td>...</td>\n",
              "      <td>...</td>\n",
              "      <td>...</td>\n",
              "      <td>...</td>\n",
              "      <td>...</td>\n",
              "      <td>...</td>\n",
              "      <td>...</td>\n",
              "      <td>...</td>\n",
              "      <td>...</td>\n",
              "      <td>...</td>\n",
              "      <td>...</td>\n",
              "      <td>...</td>\n",
              "      <td>...</td>\n",
              "      <td>...</td>\n",
              "      <td>...</td>\n",
              "      <td>...</td>\n",
              "      <td>...</td>\n",
              "    </tr>\n",
              "    <tr>\n",
              "      <th>35290</th>\n",
              "      <td>83.645933</td>\n",
              "      <td>44.404306</td>\n",
              "      <td>31.665072</td>\n",
              "      <td>26.674641</td>\n",
              "      <td>32.744019</td>\n",
              "      <td>27.708134</td>\n",
              "      <td>176.978469</td>\n",
              "      <td>24.732057</td>\n",
              "      <td>166.526316</td>\n",
              "      <td>14.361244</td>\n",
              "      <td>...</td>\n",
              "      <td>-0.225098</td>\n",
              "      <td>3.653178</td>\n",
              "      <td>-2.937286</td>\n",
              "      <td>-0.367532</td>\n",
              "      <td>-0.086819</td>\n",
              "      <td>-0.334560</td>\n",
              "      <td>3.072408</td>\n",
              "      <td>3.069076</td>\n",
              "      <td>-1.545520</td>\n",
              "      <td>122646.0</td>\n",
              "    </tr>\n",
              "    <tr>\n",
              "      <th>35291</th>\n",
              "      <td>31.777107</td>\n",
              "      <td>254.787083</td>\n",
              "      <td>30.400893</td>\n",
              "      <td>24.085062</td>\n",
              "      <td>28.940929</td>\n",
              "      <td>27.208979</td>\n",
              "      <td>30.870832</td>\n",
              "      <td>26.772119</td>\n",
              "      <td>183.965083</td>\n",
              "      <td>24.696246</td>\n",
              "      <td>...</td>\n",
              "      <td>0.806382</td>\n",
              "      <td>4.474733</td>\n",
              "      <td>-0.985364</td>\n",
              "      <td>-1.264674</td>\n",
              "      <td>-0.945762</td>\n",
              "      <td>-0.894149</td>\n",
              "      <td>-2.073274</td>\n",
              "      <td>1.486315</td>\n",
              "      <td>-0.033719</td>\n",
              "      <td>122679.0</td>\n",
              "    </tr>\n",
              "    <tr>\n",
              "      <th>35292</th>\n",
              "      <td>88.998331</td>\n",
              "      <td>214.305509</td>\n",
              "      <td>24.110601</td>\n",
              "      <td>60.517112</td>\n",
              "      <td>25.696160</td>\n",
              "      <td>22.569699</td>\n",
              "      <td>14.520868</td>\n",
              "      <td>12.383139</td>\n",
              "      <td>55.834725</td>\n",
              "      <td>14.619783</td>\n",
              "      <td>...</td>\n",
              "      <td>0.400687</td>\n",
              "      <td>7.949630</td>\n",
              "      <td>8.204254</td>\n",
              "      <td>4.272728</td>\n",
              "      <td>-4.876373</td>\n",
              "      <td>0.571575</td>\n",
              "      <td>9.047851</td>\n",
              "      <td>1.806651</td>\n",
              "      <td>0.252284</td>\n",
              "      <td>122692.0</td>\n",
              "    </tr>\n",
              "    <tr>\n",
              "      <th>35293</th>\n",
              "      <td>9.074074</td>\n",
              "      <td>NaN</td>\n",
              "      <td>9.728395</td>\n",
              "      <td>NaN</td>\n",
              "      <td>9.358025</td>\n",
              "      <td>NaN</td>\n",
              "      <td>7.814815</td>\n",
              "      <td>NaN</td>\n",
              "      <td>108.691358</td>\n",
              "      <td>NaN</td>\n",
              "      <td>...</td>\n",
              "      <td>-3.869489</td>\n",
              "      <td>3.876543</td>\n",
              "      <td>1.302469</td>\n",
              "      <td>25.716049</td>\n",
              "      <td>8.513580</td>\n",
              "      <td>0.407760</td>\n",
              "      <td>-1.861728</td>\n",
              "      <td>0.709347</td>\n",
              "      <td>-6.221869</td>\n",
              "      <td>122696.0</td>\n",
              "    </tr>\n",
              "    <tr>\n",
              "      <th>35294</th>\n",
              "      <td>19.728033</td>\n",
              "      <td>NaN</td>\n",
              "      <td>13.631799</td>\n",
              "      <td>NaN</td>\n",
              "      <td>12.765690</td>\n",
              "      <td>NaN</td>\n",
              "      <td>16.000000</td>\n",
              "      <td>NaN</td>\n",
              "      <td>73.225941</td>\n",
              "      <td>NaN</td>\n",
              "      <td>...</td>\n",
              "      <td>2.621399</td>\n",
              "      <td>11.196653</td>\n",
              "      <td>4.979498</td>\n",
              "      <td>-12.667364</td>\n",
              "      <td>-2.585655</td>\n",
              "      <td>-1.045786</td>\n",
              "      <td>6.959833</td>\n",
              "      <td>-3.968559</td>\n",
              "      <td>1.662881</td>\n",
              "      <td>122730.0</td>\n",
              "    </tr>\n",
              "  </tbody>\n",
              "</table>\n",
              "<p>35295 rows × 1618 columns</p>\n",
              "</div>"
            ],
            "text/plain": [
              "       B01_month_04_day_01  B01_month_04_day_04  B01_month_04_day_11  \\\n",
              "0                73.701354           100.326142            26.533841   \n",
              "1                74.124260                  NaN            18.011834   \n",
              "2                34.531390                  NaN            21.071749   \n",
              "3                20.033514                  NaN            15.532775   \n",
              "4                26.327756           255.000000            12.861220   \n",
              "...                    ...                  ...                  ...   \n",
              "35290            83.645933            44.404306            31.665072   \n",
              "35291            31.777107           254.787083            30.400893   \n",
              "35292            88.998331           214.305509            24.110601   \n",
              "35293             9.074074                  NaN             9.728395   \n",
              "35294            19.728033                  NaN            13.631799   \n",
              "\n",
              "       B01_month_04_day_14  B01_month_04_day_21  B01_month_04_day_24  \\\n",
              "0                19.632826            24.760152            20.890440   \n",
              "1                      NaN            16.532544                  NaN   \n",
              "2                      NaN            21.556054                  NaN   \n",
              "3                      NaN            15.319862                  NaN   \n",
              "4                14.796260            12.991142            12.741142   \n",
              "...                    ...                  ...                  ...   \n",
              "35290            26.674641            32.744019            27.708134   \n",
              "35291            24.085062            28.940929            27.208979   \n",
              "35292            60.517112            25.696160            22.569699   \n",
              "35293                  NaN             9.358025                  NaN   \n",
              "35294                  NaN            12.765690                  NaN   \n",
              "\n",
              "       B01_month_05_day_01  B01_month_05_day_04  B01_month_05_day_11  \\\n",
              "0                36.981810            19.036802           170.071489   \n",
              "1                19.656805                  NaN           242.443787   \n",
              "2                15.105381                  NaN            76.939462   \n",
              "3                20.195663                  NaN           255.000000   \n",
              "4               187.115157            11.292323            75.319882   \n",
              "...                    ...                  ...                  ...   \n",
              "35290           176.978469            24.732057           166.526316   \n",
              "35291            30.870832            26.772119           183.965083   \n",
              "35292            14.520868            12.383139            55.834725   \n",
              "35293             7.814815                  NaN           108.691358   \n",
              "35294            16.000000                  NaN            73.225941   \n",
              "\n",
              "       B01_month_05_day_14  ...  month_11B11__slope  month_4B12__slope  \\\n",
              "0                18.530457  ...            1.684410           9.286137   \n",
              "1                      NaN  ...            2.924260          -2.547337   \n",
              "2                      NaN  ...            6.409289          19.115471   \n",
              "3                      NaN  ...            4.670253           3.238788   \n",
              "4                12.980315  ...            0.547754           0.267323   \n",
              "...                    ...  ...                 ...                ...   \n",
              "35290            14.361244  ...           -0.225098           3.653178   \n",
              "35291            24.696246  ...            0.806382           4.474733   \n",
              "35292            14.619783  ...            0.400687           7.949630   \n",
              "35293                  NaN  ...           -3.869489           3.876543   \n",
              "35294                  NaN  ...            2.621399          11.196653   \n",
              "\n",
              "       month_5B12__slope  month_6B12__slope  month_7B12__slope  \\\n",
              "0               9.776499           3.954351          -1.987706   \n",
              "1               6.684024          -7.428994           2.200507   \n",
              "2              13.808969          -2.968610          -0.609994   \n",
              "3               7.789946         -17.890094           1.354348   \n",
              "4               3.609533          -0.389651          -0.611234   \n",
              "...                  ...                ...                ...   \n",
              "35290          -2.937286          -0.367532          -0.086819   \n",
              "35291          -0.985364          -1.264674          -0.945762   \n",
              "35292           8.204254           4.272728          -4.876373   \n",
              "35293           1.302469          25.716049           8.513580   \n",
              "35294           4.979498         -12.667364          -2.585655   \n",
              "\n",
              "       month_8B12__slope  month_9B12__slope  month_10B12__slope  \\\n",
              "0              -2.634948           4.798470            1.438071   \n",
              "1               4.846323           7.144379           -1.900930   \n",
              "2               8.870980           6.200000           -1.275593   \n",
              "3             -22.003422          -1.434697           -0.511075   \n",
              "4               0.311653          -2.571834            0.316042   \n",
              "...                  ...                ...                 ...   \n",
              "35290          -0.334560           3.072408            3.069076   \n",
              "35291          -0.894149          -2.073274            1.486315   \n",
              "35292           0.571575           9.047851            1.806651   \n",
              "35293           0.407760          -1.861728            0.709347   \n",
              "35294          -1.045786           6.959833           -3.968559   \n",
              "\n",
              "       month_11B12__slope  field_id  \n",
              "0                0.324177      30.0  \n",
              "1                2.484869      56.0  \n",
              "2                7.583152      60.0  \n",
              "3                0.487615      97.0  \n",
              "4               -0.213985     103.0  \n",
              "...                   ...       ...  \n",
              "35290           -1.545520  122646.0  \n",
              "35291           -0.033719  122679.0  \n",
              "35292            0.252284  122692.0  \n",
              "35293           -6.221869  122696.0  \n",
              "35294            1.662881  122730.0  \n",
              "\n",
              "[35295 rows x 1618 columns]"
            ]
          },
          "execution_count": 21,
          "metadata": {},
          "output_type": "execute_result"
        }
      ]
    },
    {
      "cell_type": "code",
      "metadata": {
        "id": "l3N0L2FBM_Yn"
      },
      "source": [
        ""
      ],
      "execution_count": null,
      "outputs": []
    }
  ]
}