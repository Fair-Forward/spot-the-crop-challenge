{
  "nbformat": 4,
  "nbformat_minor": 0,
  "metadata": {
    "kernelspec": {
      "display_name": "Python 3",
      "language": "python",
      "name": "python3"
    },
    "language_info": {
      "codemirror_mode": {
        "name": "ipython",
        "version": 3
      },
      "file_extension": ".py",
      "mimetype": "text/x-python",
      "name": "python",
      "nbconvert_exporter": "python",
      "pygments_lexer": "ipython3",
      "version": "3.7.6"
    },
    "colab": {
      "name": "step3.1_Train_data_merging_final.ipynb",
      "provenance": [],
      "collapsed_sections": []
    }
  },
  "cells": [
    {
      "cell_type": "code",
      "metadata": {
        "id": "hu1DPfCdOdTT"
      },
      "source": [
        "!pip install scikit-learn==1.0\n",
        "!pip install xgboost==1.4.2\n",
        "!pip install catboost==0.26.1\n",
        "!pip install pandas==1.3.3\n",
        "!pip install radiant-mlhub==0.3.0\n",
        "!pip install rasterio==1.2.8\n",
        "!pip install numpy==1.21.2\n",
        "!pip install pathlib==1.0.1\n",
        "!pip install tqdm==4.62.3\n",
        "!pip install joblib==1.0.1\n",
        "!pip install matplotlib==3.4.3\n",
        "!pip install Pillow==8.3.2\n",
        "!pip install torch==1.9.1\n",
        "!pip install plotly==5.3.1\n"
      ],
      "execution_count": null,
      "outputs": []
    },
    {
      "cell_type": "code",
      "metadata": {
        "id": "OaO2wUg9OcYx",
        "outputId": "0a74e429-a8e7-4320-9d9c-90c4bcc88bfb"
      },
      "source": [
        "import warnings\n",
        "warnings.filterwarnings('ignore')\n",
        "# warnings.filterwarnings('RuntimeWarning')\n",
        "\n",
        "from radiant_mlhub import Collection\n",
        "import tarfile\n",
        "import os\n",
        "from pathlib import Path\n",
        "import json\n",
        "from tqdm import tqdm\n",
        "\n",
        "import datetime\n",
        "import rasterio\n",
        "import numpy as np\n",
        "import pandas as pd\n",
        "\n",
        "import gc\n",
        "\n",
        "gc.collect()"
      ],
      "execution_count": null,
      "outputs": [
        {
          "data": {
            "text/plain": [
              "0"
            ]
          },
          "execution_count": 1,
          "metadata": {},
          "output_type": "execute_result"
        }
      ]
    },
    {
      "cell_type": "code",
      "metadata": {
        "id": "XOsKL7ApOcY2",
        "outputId": "8a579148-50b0-470b-fa7a-0bc6d1ac2f8f"
      },
      "source": [
        "bands = ['B01','B02','B03','B04','B05','B06','B07','B08','B8A','B09','B11','B12']\n",
        "aggregations  = ['mean','median']\n",
        "\n",
        "\n",
        "\n",
        "for agg in aggregations:\n",
        "    print(f'---------------Aggregation {agg}-----------------------')\n",
        "    count = 0\n",
        "    for band in tqdm(bands):\n",
        "        print(f'preparing the aggregation merging on {agg} for band {band}')\n",
        "        for i in range(1,15,1):\n",
        "            batchid = i \n",
        "            if batchid==1:\n",
        "                df = pd.read_csv(f'/root/sentinel2_updated/Train_data_prep/Batchwise_data/{band}/{agg}_{band}_{batchid}.csv')\n",
        "            else:\n",
        "                df1 = pd.read_csv(f'/root/sentinel2_updated/Train_data_prep/Batchwise_data/{band}/{agg}_{band}_{batchid}.csv')\n",
        "                df  = df.append(df1)\n",
        "            df = df[df['field_id']!=0]\n",
        "            \n",
        "        if count ==0:\n",
        "            if agg!='mean':\n",
        "                df = df.drop(['label'],axis=1)\n",
        "            agg_df = df\n",
        "            \n",
        "        else:\n",
        "            df     = df.drop(['label'],axis=1)\n",
        "            agg_df = agg_df.merge(df,on=['field_id'],how='left')\n",
        "        count = count+1\n",
        "    print(agg_df.shape)\n",
        "    agg_df.to_csv(f'/root/sentinel2_updated/Train_data_prep/merged_train_data/train_{agg}.csv',index=False)"
      ],
      "execution_count": null,
      "outputs": [
        {
          "name": "stderr",
          "output_type": "stream",
          "text": [
            "  0%|          | 0/12 [00:00<?, ?it/s]"
          ]
        },
        {
          "name": "stdout",
          "output_type": "stream",
          "text": [
            "---------------Aggregation mean-----------------------\n",
            "preparing the aggregation merging on mean for band B01\n"
          ]
        },
        {
          "name": "stderr",
          "output_type": "stream",
          "text": [
            "  8%|▊         | 1/12 [00:00<00:09,  1.13it/s]"
          ]
        },
        {
          "name": "stdout",
          "output_type": "stream",
          "text": [
            "preparing the aggregation merging on mean for band B02\n"
          ]
        },
        {
          "name": "stderr",
          "output_type": "stream",
          "text": [
            " 17%|█▋        | 2/12 [00:01<00:09,  1.11it/s]"
          ]
        },
        {
          "name": "stdout",
          "output_type": "stream",
          "text": [
            "preparing the aggregation merging on mean for band B03\n"
          ]
        },
        {
          "name": "stderr",
          "output_type": "stream",
          "text": [
            " 25%|██▌       | 3/12 [00:02<00:08,  1.11it/s]"
          ]
        },
        {
          "name": "stdout",
          "output_type": "stream",
          "text": [
            "preparing the aggregation merging on mean for band B04\n"
          ]
        },
        {
          "name": "stderr",
          "output_type": "stream",
          "text": [
            " 33%|███▎      | 4/12 [00:03<00:07,  1.11it/s]"
          ]
        },
        {
          "name": "stdout",
          "output_type": "stream",
          "text": [
            "preparing the aggregation merging on mean for band B05\n"
          ]
        },
        {
          "name": "stderr",
          "output_type": "stream",
          "text": [
            " 42%|████▏     | 5/12 [00:04<00:06,  1.10it/s]"
          ]
        },
        {
          "name": "stdout",
          "output_type": "stream",
          "text": [
            "preparing the aggregation merging on mean for band B06\n"
          ]
        },
        {
          "name": "stderr",
          "output_type": "stream",
          "text": [
            " 50%|█████     | 6/12 [00:05<00:05,  1.10it/s]"
          ]
        },
        {
          "name": "stdout",
          "output_type": "stream",
          "text": [
            "preparing the aggregation merging on mean for band B07\n"
          ]
        },
        {
          "name": "stderr",
          "output_type": "stream",
          "text": [
            " 58%|█████▊    | 7/12 [00:06<00:04,  1.09it/s]"
          ]
        },
        {
          "name": "stdout",
          "output_type": "stream",
          "text": [
            "preparing the aggregation merging on mean for band B08\n"
          ]
        },
        {
          "name": "stderr",
          "output_type": "stream",
          "text": [
            " 67%|██████▋   | 8/12 [00:07<00:03,  1.08it/s]"
          ]
        },
        {
          "name": "stdout",
          "output_type": "stream",
          "text": [
            "preparing the aggregation merging on mean for band B8A\n"
          ]
        },
        {
          "name": "stderr",
          "output_type": "stream",
          "text": [
            " 75%|███████▌  | 9/12 [00:08<00:02,  1.08it/s]"
          ]
        },
        {
          "name": "stdout",
          "output_type": "stream",
          "text": [
            "preparing the aggregation merging on mean for band B09\n"
          ]
        },
        {
          "name": "stderr",
          "output_type": "stream",
          "text": [
            " 83%|████████▎ | 10/12 [00:09<00:01,  1.07it/s]"
          ]
        },
        {
          "name": "stdout",
          "output_type": "stream",
          "text": [
            "preparing the aggregation merging on mean for band B11\n"
          ]
        },
        {
          "name": "stderr",
          "output_type": "stream",
          "text": [
            " 92%|█████████▏| 11/12 [00:10<00:00,  1.06it/s]"
          ]
        },
        {
          "name": "stdout",
          "output_type": "stream",
          "text": [
            "preparing the aggregation merging on mean for band B12\n"
          ]
        },
        {
          "name": "stderr",
          "output_type": "stream",
          "text": [
            "100%|██████████| 12/12 [00:11<00:00,  1.08it/s]\n"
          ]
        },
        {
          "name": "stdout",
          "output_type": "stream",
          "text": [
            "(87113, 914)\n"
          ]
        },
        {
          "name": "stderr",
          "output_type": "stream",
          "text": [
            "  0%|          | 0/12 [00:00<?, ?it/s]"
          ]
        },
        {
          "name": "stdout",
          "output_type": "stream",
          "text": [
            "---------------Aggregation median-----------------------\n",
            "preparing the aggregation merging on median for band B01\n"
          ]
        },
        {
          "name": "stderr",
          "output_type": "stream",
          "text": [
            "  8%|▊         | 1/12 [00:00<00:06,  1.67it/s]"
          ]
        },
        {
          "name": "stdout",
          "output_type": "stream",
          "text": [
            "preparing the aggregation merging on median for band B02\n"
          ]
        },
        {
          "name": "stderr",
          "output_type": "stream",
          "text": [
            " 17%|█▋        | 2/12 [00:01<00:06,  1.57it/s]"
          ]
        },
        {
          "name": "stdout",
          "output_type": "stream",
          "text": [
            "preparing the aggregation merging on median for band B03\n"
          ]
        },
        {
          "name": "stderr",
          "output_type": "stream",
          "text": [
            " 25%|██▌       | 3/12 [00:01<00:05,  1.56it/s]"
          ]
        },
        {
          "name": "stdout",
          "output_type": "stream",
          "text": [
            "preparing the aggregation merging on median for band B04\n"
          ]
        },
        {
          "name": "stderr",
          "output_type": "stream",
          "text": [
            " 33%|███▎      | 4/12 [00:02<00:05,  1.54it/s]"
          ]
        },
        {
          "name": "stdout",
          "output_type": "stream",
          "text": [
            "preparing the aggregation merging on median for band B05\n"
          ]
        },
        {
          "name": "stderr",
          "output_type": "stream",
          "text": [
            " 42%|████▏     | 5/12 [00:03<00:04,  1.53it/s]"
          ]
        },
        {
          "name": "stdout",
          "output_type": "stream",
          "text": [
            "preparing the aggregation merging on median for band B06\n"
          ]
        },
        {
          "name": "stderr",
          "output_type": "stream",
          "text": [
            " 50%|█████     | 6/12 [00:03<00:03,  1.51it/s]"
          ]
        },
        {
          "name": "stdout",
          "output_type": "stream",
          "text": [
            "preparing the aggregation merging on median for band B07\n"
          ]
        },
        {
          "name": "stderr",
          "output_type": "stream",
          "text": [
            " 58%|█████▊    | 7/12 [00:04<00:03,  1.49it/s]"
          ]
        },
        {
          "name": "stdout",
          "output_type": "stream",
          "text": [
            "preparing the aggregation merging on median for band B08\n"
          ]
        },
        {
          "name": "stderr",
          "output_type": "stream",
          "text": [
            " 67%|██████▋   | 8/12 [00:05<00:02,  1.47it/s]"
          ]
        },
        {
          "name": "stdout",
          "output_type": "stream",
          "text": [
            "preparing the aggregation merging on median for band B8A\n"
          ]
        },
        {
          "name": "stderr",
          "output_type": "stream",
          "text": [
            " 75%|███████▌  | 9/12 [00:06<00:02,  1.45it/s]"
          ]
        },
        {
          "name": "stdout",
          "output_type": "stream",
          "text": [
            "preparing the aggregation merging on median for band B09\n"
          ]
        },
        {
          "name": "stderr",
          "output_type": "stream",
          "text": [
            " 83%|████████▎ | 10/12 [00:06<00:01,  1.43it/s]"
          ]
        },
        {
          "name": "stdout",
          "output_type": "stream",
          "text": [
            "preparing the aggregation merging on median for band B11\n"
          ]
        },
        {
          "name": "stderr",
          "output_type": "stream",
          "text": [
            " 92%|█████████▏| 11/12 [00:07<00:00,  1.41it/s]"
          ]
        },
        {
          "name": "stdout",
          "output_type": "stream",
          "text": [
            "preparing the aggregation merging on median for band B12\n"
          ]
        },
        {
          "name": "stderr",
          "output_type": "stream",
          "text": [
            "100%|██████████| 12/12 [00:08<00:00,  1.47it/s]\n"
          ]
        },
        {
          "name": "stdout",
          "output_type": "stream",
          "text": [
            "(87113, 913)\n"
          ]
        },
        {
          "name": "stderr",
          "output_type": "stream",
          "text": [
            "  0%|          | 0/12 [00:00<?, ?it/s]"
          ]
        },
        {
          "name": "stdout",
          "output_type": "stream",
          "text": [
            "---------------Aggregation lq-----------------------\n",
            "preparing the aggregation merging on lq for band B01\n"
          ]
        },
        {
          "name": "stderr",
          "output_type": "stream",
          "text": [
            "  8%|▊         | 1/12 [00:00<00:06,  1.70it/s]"
          ]
        },
        {
          "name": "stdout",
          "output_type": "stream",
          "text": [
            "preparing the aggregation merging on lq for band B02\n"
          ]
        },
        {
          "name": "stderr",
          "output_type": "stream",
          "text": [
            " 17%|█▋        | 2/12 [00:01<00:06,  1.59it/s]"
          ]
        },
        {
          "name": "stdout",
          "output_type": "stream",
          "text": [
            "preparing the aggregation merging on lq for band B03\n"
          ]
        },
        {
          "name": "stderr",
          "output_type": "stream",
          "text": [
            " 25%|██▌       | 3/12 [00:01<00:05,  1.56it/s]"
          ]
        },
        {
          "name": "stdout",
          "output_type": "stream",
          "text": [
            "preparing the aggregation merging on lq for band B04\n"
          ]
        },
        {
          "name": "stderr",
          "output_type": "stream",
          "text": [
            " 33%|███▎      | 4/12 [00:02<00:05,  1.54it/s]"
          ]
        },
        {
          "name": "stdout",
          "output_type": "stream",
          "text": [
            "preparing the aggregation merging on lq for band B05\n"
          ]
        },
        {
          "name": "stderr",
          "output_type": "stream",
          "text": [
            " 42%|████▏     | 5/12 [00:03<00:04,  1.52it/s]"
          ]
        },
        {
          "name": "stdout",
          "output_type": "stream",
          "text": [
            "preparing the aggregation merging on lq for band B06\n"
          ]
        },
        {
          "name": "stderr",
          "output_type": "stream",
          "text": [
            " 50%|█████     | 6/12 [00:03<00:03,  1.50it/s]"
          ]
        },
        {
          "name": "stdout",
          "output_type": "stream",
          "text": [
            "preparing the aggregation merging on lq for band B07\n"
          ]
        },
        {
          "name": "stderr",
          "output_type": "stream",
          "text": [
            " 58%|█████▊    | 7/12 [00:04<00:03,  1.48it/s]"
          ]
        },
        {
          "name": "stdout",
          "output_type": "stream",
          "text": [
            "preparing the aggregation merging on lq for band B08\n"
          ]
        },
        {
          "name": "stderr",
          "output_type": "stream",
          "text": [
            " 67%|██████▋   | 8/12 [00:05<00:02,  1.45it/s]"
          ]
        },
        {
          "name": "stdout",
          "output_type": "stream",
          "text": [
            "preparing the aggregation merging on lq for band B8A\n"
          ]
        },
        {
          "name": "stderr",
          "output_type": "stream",
          "text": [
            " 75%|███████▌  | 9/12 [00:06<00:02,  1.43it/s]"
          ]
        },
        {
          "name": "stdout",
          "output_type": "stream",
          "text": [
            "preparing the aggregation merging on lq for band B09\n"
          ]
        },
        {
          "name": "stderr",
          "output_type": "stream",
          "text": [
            " 83%|████████▎ | 10/12 [00:06<00:01,  1.42it/s]"
          ]
        },
        {
          "name": "stdout",
          "output_type": "stream",
          "text": [
            "preparing the aggregation merging on lq for band B11\n"
          ]
        },
        {
          "name": "stderr",
          "output_type": "stream",
          "text": [
            " 92%|█████████▏| 11/12 [00:07<00:00,  1.40it/s]"
          ]
        },
        {
          "name": "stdout",
          "output_type": "stream",
          "text": [
            "preparing the aggregation merging on lq for band B12\n"
          ]
        },
        {
          "name": "stderr",
          "output_type": "stream",
          "text": [
            "100%|██████████| 12/12 [00:08<00:00,  1.45it/s]\n"
          ]
        },
        {
          "name": "stdout",
          "output_type": "stream",
          "text": [
            "(87113, 913)\n"
          ]
        },
        {
          "name": "stderr",
          "output_type": "stream",
          "text": [
            "  0%|          | 0/12 [00:00<?, ?it/s]"
          ]
        },
        {
          "name": "stdout",
          "output_type": "stream",
          "text": [
            "---------------Aggregation uq-----------------------\n",
            "preparing the aggregation merging on uq for band B01\n"
          ]
        },
        {
          "name": "stderr",
          "output_type": "stream",
          "text": [
            "  8%|▊         | 1/12 [00:00<00:06,  1.67it/s]"
          ]
        },
        {
          "name": "stdout",
          "output_type": "stream",
          "text": [
            "preparing the aggregation merging on uq for band B02\n"
          ]
        },
        {
          "name": "stderr",
          "output_type": "stream",
          "text": [
            " 17%|█▋        | 2/12 [00:01<00:06,  1.57it/s]"
          ]
        },
        {
          "name": "stdout",
          "output_type": "stream",
          "text": [
            "preparing the aggregation merging on uq for band B03\n"
          ]
        },
        {
          "name": "stderr",
          "output_type": "stream",
          "text": [
            " 25%|██▌       | 3/12 [00:01<00:05,  1.55it/s]"
          ]
        },
        {
          "name": "stdout",
          "output_type": "stream",
          "text": [
            "preparing the aggregation merging on uq for band B04\n"
          ]
        },
        {
          "name": "stderr",
          "output_type": "stream",
          "text": [
            " 33%|███▎      | 4/12 [00:02<00:05,  1.53it/s]"
          ]
        },
        {
          "name": "stdout",
          "output_type": "stream",
          "text": [
            "preparing the aggregation merging on uq for band B05\n"
          ]
        },
        {
          "name": "stderr",
          "output_type": "stream",
          "text": [
            " 42%|████▏     | 5/12 [00:03<00:04,  1.52it/s]"
          ]
        },
        {
          "name": "stdout",
          "output_type": "stream",
          "text": [
            "preparing the aggregation merging on uq for band B06\n"
          ]
        },
        {
          "name": "stderr",
          "output_type": "stream",
          "text": [
            " 50%|█████     | 6/12 [00:03<00:04,  1.49it/s]"
          ]
        },
        {
          "name": "stdout",
          "output_type": "stream",
          "text": [
            "preparing the aggregation merging on uq for band B07\n"
          ]
        },
        {
          "name": "stderr",
          "output_type": "stream",
          "text": [
            " 58%|█████▊    | 7/12 [00:04<00:03,  1.46it/s]"
          ]
        },
        {
          "name": "stdout",
          "output_type": "stream",
          "text": [
            "preparing the aggregation merging on uq for band B08\n"
          ]
        },
        {
          "name": "stderr",
          "output_type": "stream",
          "text": [
            " 67%|██████▋   | 8/12 [00:05<00:02,  1.44it/s]"
          ]
        },
        {
          "name": "stdout",
          "output_type": "stream",
          "text": [
            "preparing the aggregation merging on uq for band B8A\n"
          ]
        },
        {
          "name": "stderr",
          "output_type": "stream",
          "text": [
            " 75%|███████▌  | 9/12 [00:06<00:02,  1.42it/s]"
          ]
        },
        {
          "name": "stdout",
          "output_type": "stream",
          "text": [
            "preparing the aggregation merging on uq for band B09\n"
          ]
        },
        {
          "name": "stderr",
          "output_type": "stream",
          "text": [
            " 83%|████████▎ | 10/12 [00:06<00:01,  1.40it/s]"
          ]
        },
        {
          "name": "stdout",
          "output_type": "stream",
          "text": [
            "preparing the aggregation merging on uq for band B11\n"
          ]
        },
        {
          "name": "stderr",
          "output_type": "stream",
          "text": [
            " 92%|█████████▏| 11/12 [00:07<00:00,  1.38it/s]"
          ]
        },
        {
          "name": "stdout",
          "output_type": "stream",
          "text": [
            "preparing the aggregation merging on uq for band B12\n"
          ]
        },
        {
          "name": "stderr",
          "output_type": "stream",
          "text": [
            "100%|██████████| 12/12 [00:08<00:00,  1.44it/s]\n"
          ]
        },
        {
          "name": "stdout",
          "output_type": "stream",
          "text": [
            "(87113, 913)\n"
          ]
        }
      ]
    },
    {
      "cell_type": "code",
      "metadata": {
        "id": "Z81sgDGsOcY3",
        "outputId": "f968abb7-8011-4844-d71b-bbed5a5f97ae"
      },
      "source": [
        "agg_df.head(2)"
      ],
      "execution_count": null,
      "outputs": [
        {
          "data": {
            "text/html": [
              "<div>\n",
              "<style scoped>\n",
              "    .dataframe tbody tr th:only-of-type {\n",
              "        vertical-align: middle;\n",
              "    }\n",
              "\n",
              "    .dataframe tbody tr th {\n",
              "        vertical-align: top;\n",
              "    }\n",
              "\n",
              "    .dataframe thead th {\n",
              "        text-align: right;\n",
              "    }\n",
              "</style>\n",
              "<table border=\"1\" class=\"dataframe\">\n",
              "  <thead>\n",
              "    <tr style=\"text-align: right;\">\n",
              "      <th></th>\n",
              "      <th>field_id</th>\n",
              "      <th>B01_month_04_day_01</th>\n",
              "      <th>B01_month_04_day_04</th>\n",
              "      <th>B01_month_04_day_11</th>\n",
              "      <th>B01_month_04_day_14</th>\n",
              "      <th>B01_month_04_day_21</th>\n",
              "      <th>B01_month_04_day_24</th>\n",
              "      <th>B01_month_05_day_01</th>\n",
              "      <th>B01_month_05_day_04</th>\n",
              "      <th>B01_month_05_day_11</th>\n",
              "      <th>...</th>\n",
              "      <th>B12_month_11_day_05</th>\n",
              "      <th>B12_month_11_day_07</th>\n",
              "      <th>B12_month_11_day_10</th>\n",
              "      <th>B12_month_11_day_12</th>\n",
              "      <th>B12_month_11_day_15</th>\n",
              "      <th>B12_month_11_day_17</th>\n",
              "      <th>B12_month_11_day_20</th>\n",
              "      <th>B12_month_11_day_22</th>\n",
              "      <th>B12_month_11_day_27</th>\n",
              "      <th>B12_month_11_day_30</th>\n",
              "    </tr>\n",
              "  </thead>\n",
              "  <tbody>\n",
              "    <tr>\n",
              "      <th>0</th>\n",
              "      <td>2.0</td>\n",
              "      <td>58.0</td>\n",
              "      <td>NaN</td>\n",
              "      <td>9.0</td>\n",
              "      <td>NaN</td>\n",
              "      <td>24.0</td>\n",
              "      <td>NaN</td>\n",
              "      <td>105.0</td>\n",
              "      <td>NaN</td>\n",
              "      <td>120.0</td>\n",
              "      <td>...</td>\n",
              "      <td>NaN</td>\n",
              "      <td>84.0</td>\n",
              "      <td>NaN</td>\n",
              "      <td>109.0</td>\n",
              "      <td>NaN</td>\n",
              "      <td>86.0</td>\n",
              "      <td>NaN</td>\n",
              "      <td>109.5</td>\n",
              "      <td>91.0</td>\n",
              "      <td>NaN</td>\n",
              "    </tr>\n",
              "    <tr>\n",
              "      <th>1</th>\n",
              "      <td>29.0</td>\n",
              "      <td>23.0</td>\n",
              "      <td>NaN</td>\n",
              "      <td>26.0</td>\n",
              "      <td>NaN</td>\n",
              "      <td>14.0</td>\n",
              "      <td>NaN</td>\n",
              "      <td>12.0</td>\n",
              "      <td>NaN</td>\n",
              "      <td>28.0</td>\n",
              "      <td>...</td>\n",
              "      <td>NaN</td>\n",
              "      <td>77.0</td>\n",
              "      <td>NaN</td>\n",
              "      <td>144.0</td>\n",
              "      <td>NaN</td>\n",
              "      <td>88.0</td>\n",
              "      <td>NaN</td>\n",
              "      <td>60.0</td>\n",
              "      <td>91.0</td>\n",
              "      <td>NaN</td>\n",
              "    </tr>\n",
              "  </tbody>\n",
              "</table>\n",
              "<p>2 rows × 913 columns</p>\n",
              "</div>"
            ],
            "text/plain": [
              "   field_id  B01_month_04_day_01  B01_month_04_day_04  B01_month_04_day_11  \\\n",
              "0       2.0                 58.0                  NaN                  9.0   \n",
              "1      29.0                 23.0                  NaN                 26.0   \n",
              "\n",
              "   B01_month_04_day_14  B01_month_04_day_21  B01_month_04_day_24  \\\n",
              "0                  NaN                 24.0                  NaN   \n",
              "1                  NaN                 14.0                  NaN   \n",
              "\n",
              "   B01_month_05_day_01  B01_month_05_day_04  B01_month_05_day_11  ...  \\\n",
              "0                105.0                  NaN                120.0  ...   \n",
              "1                 12.0                  NaN                 28.0  ...   \n",
              "\n",
              "   B12_month_11_day_05  B12_month_11_day_07  B12_month_11_day_10  \\\n",
              "0                  NaN                 84.0                  NaN   \n",
              "1                  NaN                 77.0                  NaN   \n",
              "\n",
              "   B12_month_11_day_12  B12_month_11_day_15  B12_month_11_day_17  \\\n",
              "0                109.0                  NaN                 86.0   \n",
              "1                144.0                  NaN                 88.0   \n",
              "\n",
              "   B12_month_11_day_20  B12_month_11_day_22  B12_month_11_day_27  \\\n",
              "0                  NaN                109.5                 91.0   \n",
              "1                  NaN                 60.0                 91.0   \n",
              "\n",
              "   B12_month_11_day_30  \n",
              "0                  NaN  \n",
              "1                  NaN  \n",
              "\n",
              "[2 rows x 913 columns]"
            ]
          },
          "execution_count": 3,
          "metadata": {},
          "output_type": "execute_result"
        }
      ]
    },
    {
      "cell_type": "code",
      "metadata": {
        "id": "ZLBacJrnOcY4"
      },
      "source": [
        ""
      ],
      "execution_count": null,
      "outputs": []
    }
  ]
}