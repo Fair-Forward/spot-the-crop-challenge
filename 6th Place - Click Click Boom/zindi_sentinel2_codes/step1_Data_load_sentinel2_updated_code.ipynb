{
  "nbformat": 4,
  "nbformat_minor": 0,
  "metadata": {
    "kernelspec": {
      "display_name": "Python 3",
      "language": "python",
      "name": "python3"
    },
    "language_info": {
      "codemirror_mode": {
        "name": "ipython",
        "version": 3
      },
      "file_extension": ".py",
      "mimetype": "text/x-python",
      "name": "python",
      "nbconvert_exporter": "python",
      "pygments_lexer": "ipython3",
      "version": "3.7.6"
    },
    "colab": {
      "name": "step1_Data_load_sentinel2_updated_code.ipynb",
      "provenance": [],
      "collapsed_sections": []
    }
  },
  "cells": [
    {
      "cell_type": "code",
      "metadata": {
        "colab": {
          "base_uri": "https://localhost:8080/"
        },
        "id": "jHoHo7IT_lZT",
        "outputId": "976f6bc2-f6a2-43a3-b21b-4db0d548aa4c"
      },
      "source": [
        "!pip install scikit-learn==1.0\n",
        "!pip install xgboost==1.4.2\n",
        "!pip install catboost==0.26.1\n",
        "!pip install pandas==1.3.3\n",
        "!pip install radiant-mlhub==0.3.0\n",
        "!pip install rasterio==1.2.8\n",
        "!pip install numpy==1.21.2\n",
        "!pip install pathlib==1.0.1\n",
        "!pip install tqdm==4.62.3\n",
        "!pip install joblib==1.0.1\n",
        "!pip install matplotlib==3.4.3\n",
        "!pip install Pillow==8.3.2\n",
        "!pip install torch==1.9.1\n",
        "!pip install plotly==5.3.1"
      ],
      "execution_count": 5,
      "outputs": [
        {
          "output_type": "stream",
          "name": "stdout",
          "text": [
            "Collecting torch==1.9.1\n",
            "  Downloading torch-1.9.1-cp37-cp37m-manylinux1_x86_64.whl (831.4 MB)\n",
            "\u001b[K     |████████████████████████████████| 831.4 MB 3.0 kB/s \n",
            "\u001b[?25hRequirement already satisfied: typing-extensions in /usr/local/lib/python3.7/dist-packages (from torch==1.9.1) (3.10.0.2)\n",
            "Installing collected packages: torch\n",
            "  Attempting uninstall: torch\n",
            "    Found existing installation: torch 1.10.0+cu111\n",
            "    Uninstalling torch-1.10.0+cu111:\n",
            "      Successfully uninstalled torch-1.10.0+cu111\n",
            "\u001b[31mERROR: pip's dependency resolver does not currently take into account all the packages that are installed. This behaviour is the source of the following dependency conflicts.\n",
            "torchvision 0.11.1+cu111 requires torch==1.10.0, but you have torch 1.9.1 which is incompatible.\n",
            "torchtext 0.11.0 requires torch==1.10.0, but you have torch 1.9.1 which is incompatible.\u001b[0m\n",
            "Successfully installed torch-1.9.1\n"
          ]
        }
      ]
    },
    {
      "cell_type": "code",
      "metadata": {
        "id": "PZ8j-wWL_dzP",
        "outputId": "8167d8a5-272f-4945-fefa-8103445bc0f5"
      },
      "source": [
        "import warnings\n",
        "warnings.filterwarnings('ignore')\n",
        "# warnings.filterwarnings('RuntimeWarning')\n",
        "\n",
        "from radiant_mlhub import Collection\n",
        "from radiant_mlhub.client import _download as download_file\n",
        "\n",
        "import tarfile\n",
        "import os\n",
        "from pathlib import Path\n",
        "import json\n",
        "from tqdm import tqdm\n",
        "\n",
        "import datetime\n",
        "import rasterio\n",
        "import numpy as np\n",
        "import pandas as pd\n",
        "\n",
        "import gc\n",
        "gc.collect()"
      ],
      "execution_count": null,
      "outputs": [
        {
          "data": {
            "text/plain": [
              "0"
            ]
          },
          "execution_count": 1,
          "metadata": {},
          "output_type": "execute_result"
        }
      ]
    },
    {
      "cell_type": "code",
      "metadata": {
        "id": "IzFwl52B_dzU"
      },
      "source": [
        "os.environ['MLHUB_API_KEY'] = '3ad85486c5ea861d41bfc6084e05a9d78f6d7d5e7c1f04609e310765efaccfd8'"
      ],
      "execution_count": null,
      "outputs": []
    },
    {
      "cell_type": "code",
      "metadata": {
        "id": "86QU5rqw_dzV"
      },
      "source": [
        "DOWNLOAD_S1 = False\n",
        "\n",
        "DOWNLOAD_BANDS = {\n",
        "    'B01': True,\n",
        "    'B02': True,\n",
        "    'B03': True,\n",
        "    'B04': True,\n",
        "    'B05': True,\n",
        "    'B06': True,\n",
        "    'B07': True,\n",
        "    'B08': True,\n",
        "    'B8A': True,\n",
        "    'B09': True,\n",
        "    'B11': True,\n",
        "    'B12': True,\n",
        "    'CLM': True\n",
        "}"
      ],
      "execution_count": null,
      "outputs": []
    },
    {
      "cell_type": "code",
      "metadata": {
        "colab": {
          "referenced_widgets": [
            "f44da6fc0ff94d8e861d445ab8a6d87d",
            "851d4cb65ac94ea08f8d1475e06a0364",
            "0a9ea5ee915b4217aa5b8b32dbda2f67",
            "b0b84f6664ac446383e36e944a2a0ed9",
            "1f083ae29cc5441a834af04e3b70da5b",
            "31f95726e1e64c6980c7f92e1138c11d",
            "3bae75119a8340c48068d565c9f5634f",
            "af1f6ecb11134faba11b5e1793ad2e05",
            "6fe042f444574709bdfbbaddddab4ab6",
            "17e4ec534b684c6081dc2fab2aeeb9ff",
            "36669af341e74d6d9d9f33d5fae97047",
            "e47873ff0460493ba44fdeea582e985e",
            "25abbf39d5964b8c856b6440829750d3",
            "27aa29faaabc4ff29fe2fffeebc5af57",
            "2b71bc10c8f148918af08b739254016e",
            "e6d0c6b2aebd4d6fb7df63e7866ae68a",
            "ccc0c8f34d6d4e3b9d94ef2e88848367",
            "37264e73025f4a05b0d58f6d97099a1c",
            "d801acaaac0242a589ed9113849bcb56",
            "18310d37c6b3496699151ff446d99126",
            "4177fc59621b4b29bad920acb06b1b6c",
            "25626fc52d2a45aea202279478c1a72e",
            "c4fef60e3c5e4d14825764c16674e751",
            "bc076fc821d740f594fe21313353d218",
            "a966ebd487244e73b609b886d2546b37",
            "a45de88a061c4e298107ba716c506f59",
            "18554b472a2340aba2fa188182be602d",
            "6fbaed00a2004e6c92fa0a4772db11e6"
          ]
        },
        "id": "cRmHuv7e_dzW",
        "outputId": "48de6c84-99c8-495a-d2c5-278dd87279cb"
      },
      "source": [
        "FOLDER_BASE = 'ref_south_africa_crops_competition_v1'\n",
        "\n",
        "def download_archive(archive_name):\n",
        "    if os.path.exists(archive_name.replace('.tar.gz', '')):\n",
        "        return\n",
        "    \n",
        "    print(f'Downloading {archive_name} ...')\n",
        "    download_url = f'https://radiant-mlhub.s3.us-west-2.amazonaws.com/archives/{archive_name}'\n",
        "    download_file(download_url, '.')\n",
        "    print(f'Extracting {archive_name} ...')\n",
        "    with tarfile.open(archive_name) as tfile:\n",
        "        tfile.extractall()\n",
        "    os.remove(archive_name)\n",
        "    \n",
        "for split in ['train', 'test']:\n",
        "    # Download the labels\n",
        "    labels_archive = f'{FOLDER_BASE}_{split}_labels.tar.gz'\n",
        "    download_archive(labels_archive)\n",
        "    \n",
        "    # Download Sentinel-1 data\n",
        "    if DOWNLOAD_S1:\n",
        "        s1_archive = f'{FOLDER_BASE}_{split}_source_s1.tar.gz'\n",
        "        download_archive(s1_archive)\n",
        "        \n",
        "\n",
        "    for band, download in DOWNLOAD_BANDS.items():\n",
        "        if not download:\n",
        "            continue\n",
        "        s2_archive = f'{FOLDER_BASE}_{split}_source_s2_{band}.tar.gz'\n",
        "        download_archive(s2_archive)\n",
        "        \n"
      ],
      "execution_count": null,
      "outputs": [
        {
          "name": "stdout",
          "output_type": "stream",
          "text": [
            "Downloading ref_south_africa_crops_competition_v1_train_labels.tar.gz ...\n"
          ]
        },
        {
          "data": {
            "application/vnd.jupyter.widget-view+json": {
              "model_id": "f44da6fc0ff94d8e861d445ab8a6d87d",
              "version_major": 2,
              "version_minor": 0
            },
            "text/plain": [
              "  0%|          | 0/31.4 [00:00<?, ?M/s]"
            ]
          },
          "metadata": {},
          "output_type": "display_data"
        },
        {
          "name": "stdout",
          "output_type": "stream",
          "text": [
            "Extracting ref_south_africa_crops_competition_v1_train_labels.tar.gz ...\n",
            "Downloading ref_south_africa_crops_competition_v1_train_source_s2_B01.tar.gz ...\n"
          ]
        },
        {
          "data": {
            "application/vnd.jupyter.widget-view+json": {
              "model_id": "851d4cb65ac94ea08f8d1475e06a0364",
              "version_major": 2,
              "version_minor": 0
            },
            "text/plain": [
              "  0%|          | 0/1683.3 [00:00<?, ?M/s]"
            ]
          },
          "metadata": {},
          "output_type": "display_data"
        },
        {
          "name": "stdout",
          "output_type": "stream",
          "text": [
            "Extracting ref_south_africa_crops_competition_v1_train_source_s2_B01.tar.gz ...\n",
            "Downloading ref_south_africa_crops_competition_v1_train_source_s2_B02.tar.gz ...\n"
          ]
        },
        {
          "data": {
            "application/vnd.jupyter.widget-view+json": {
              "model_id": "0a9ea5ee915b4217aa5b8b32dbda2f67",
              "version_major": 2,
              "version_minor": 0
            },
            "text/plain": [
              "  0%|          | 0/5241.7 [00:00<?, ?M/s]"
            ]
          },
          "metadata": {},
          "output_type": "display_data"
        },
        {
          "name": "stdout",
          "output_type": "stream",
          "text": [
            "Extracting ref_south_africa_crops_competition_v1_train_source_s2_B02.tar.gz ...\n",
            "Downloading ref_south_africa_crops_competition_v1_train_source_s2_B03.tar.gz ...\n"
          ]
        },
        {
          "data": {
            "application/vnd.jupyter.widget-view+json": {
              "model_id": "b0b84f6664ac446383e36e944a2a0ed9",
              "version_major": 2,
              "version_minor": 0
            },
            "text/plain": [
              "  0%|          | 0/5775.1 [00:00<?, ?M/s]"
            ]
          },
          "metadata": {},
          "output_type": "display_data"
        },
        {
          "name": "stdout",
          "output_type": "stream",
          "text": [
            "Extracting ref_south_africa_crops_competition_v1_train_source_s2_B03.tar.gz ...\n",
            "Downloading ref_south_africa_crops_competition_v1_train_source_s2_B04.tar.gz ...\n"
          ]
        },
        {
          "data": {
            "application/vnd.jupyter.widget-view+json": {
              "model_id": "1f083ae29cc5441a834af04e3b70da5b",
              "version_major": 2,
              "version_minor": 0
            },
            "text/plain": [
              "  0%|          | 0/6363.4 [00:00<?, ?M/s]"
            ]
          },
          "metadata": {},
          "output_type": "display_data"
        },
        {
          "name": "stdout",
          "output_type": "stream",
          "text": [
            "Extracting ref_south_africa_crops_competition_v1_train_source_s2_B04.tar.gz ...\n",
            "Downloading ref_south_africa_crops_competition_v1_train_source_s2_B05.tar.gz ...\n"
          ]
        },
        {
          "data": {
            "application/vnd.jupyter.widget-view+json": {
              "model_id": "31f95726e1e64c6980c7f92e1138c11d",
              "version_major": 2,
              "version_minor": 0
            },
            "text/plain": [
              "  0%|          | 0/4536.5 [00:00<?, ?M/s]"
            ]
          },
          "metadata": {},
          "output_type": "display_data"
        },
        {
          "name": "stdout",
          "output_type": "stream",
          "text": [
            "Extracting ref_south_africa_crops_competition_v1_train_source_s2_B05.tar.gz ...\n",
            "Downloading ref_south_africa_crops_competition_v1_train_source_s2_B06.tar.gz ...\n"
          ]
        },
        {
          "data": {
            "application/vnd.jupyter.widget-view+json": {
              "model_id": "3bae75119a8340c48068d565c9f5634f",
              "version_major": 2,
              "version_minor": 0
            },
            "text/plain": [
              "  0%|          | 0/4652.6 [00:00<?, ?M/s]"
            ]
          },
          "metadata": {},
          "output_type": "display_data"
        },
        {
          "name": "stdout",
          "output_type": "stream",
          "text": [
            "Extracting ref_south_africa_crops_competition_v1_train_source_s2_B06.tar.gz ...\n",
            "Downloading ref_south_africa_crops_competition_v1_train_source_s2_B07.tar.gz ...\n"
          ]
        },
        {
          "data": {
            "application/vnd.jupyter.widget-view+json": {
              "model_id": "af1f6ecb11134faba11b5e1793ad2e05",
              "version_major": 2,
              "version_minor": 0
            },
            "text/plain": [
              "  0%|          | 0/4702.1 [00:00<?, ?M/s]"
            ]
          },
          "metadata": {},
          "output_type": "display_data"
        },
        {
          "name": "stdout",
          "output_type": "stream",
          "text": [
            "Extracting ref_south_africa_crops_competition_v1_train_source_s2_B07.tar.gz ...\n",
            "Downloading ref_south_africa_crops_competition_v1_train_source_s2_B08.tar.gz ...\n"
          ]
        },
        {
          "data": {
            "application/vnd.jupyter.widget-view+json": {
              "model_id": "6fe042f444574709bdfbbaddddab4ab6",
              "version_major": 2,
              "version_minor": 0
            },
            "text/plain": [
              "  0%|          | 0/6755.8 [00:00<?, ?M/s]"
            ]
          },
          "metadata": {},
          "output_type": "display_data"
        },
        {
          "name": "stdout",
          "output_type": "stream",
          "text": [
            "Extracting ref_south_africa_crops_competition_v1_train_source_s2_B08.tar.gz ...\n",
            "Downloading ref_south_africa_crops_competition_v1_train_source_s2_B8A.tar.gz ...\n"
          ]
        },
        {
          "data": {
            "application/vnd.jupyter.widget-view+json": {
              "model_id": "17e4ec534b684c6081dc2fab2aeeb9ff",
              "version_major": 2,
              "version_minor": 0
            },
            "text/plain": [
              "  0%|          | 0/4704.1 [00:00<?, ?M/s]"
            ]
          },
          "metadata": {},
          "output_type": "display_data"
        },
        {
          "name": "stdout",
          "output_type": "stream",
          "text": [
            "Extracting ref_south_africa_crops_competition_v1_train_source_s2_B8A.tar.gz ...\n",
            "Downloading ref_south_africa_crops_competition_v1_train_source_s2_B09.tar.gz ...\n"
          ]
        },
        {
          "data": {
            "application/vnd.jupyter.widget-view+json": {
              "model_id": "36669af341e74d6d9d9f33d5fae97047",
              "version_major": 2,
              "version_minor": 0
            },
            "text/plain": [
              "  0%|          | 0/2136.7 [00:00<?, ?M/s]"
            ]
          },
          "metadata": {},
          "output_type": "display_data"
        },
        {
          "name": "stdout",
          "output_type": "stream",
          "text": [
            "Extracting ref_south_africa_crops_competition_v1_train_source_s2_B09.tar.gz ...\n",
            "Downloading ref_south_africa_crops_competition_v1_train_source_s2_B11.tar.gz ...\n"
          ]
        },
        {
          "data": {
            "application/vnd.jupyter.widget-view+json": {
              "model_id": "e47873ff0460493ba44fdeea582e985e",
              "version_major": 2,
              "version_minor": 0
            },
            "text/plain": [
              "  0%|          | 0/4588.5 [00:00<?, ?M/s]"
            ]
          },
          "metadata": {},
          "output_type": "display_data"
        },
        {
          "name": "stdout",
          "output_type": "stream",
          "text": [
            "Extracting ref_south_africa_crops_competition_v1_train_source_s2_B11.tar.gz ...\n",
            "Downloading ref_south_africa_crops_competition_v1_train_source_s2_B12.tar.gz ...\n"
          ]
        },
        {
          "data": {
            "application/vnd.jupyter.widget-view+json": {
              "model_id": "25abbf39d5964b8c856b6440829750d3",
              "version_major": 2,
              "version_minor": 0
            },
            "text/plain": [
              "  0%|          | 0/4525.1 [00:00<?, ?M/s]"
            ]
          },
          "metadata": {},
          "output_type": "display_data"
        },
        {
          "name": "stdout",
          "output_type": "stream",
          "text": [
            "Extracting ref_south_africa_crops_competition_v1_train_source_s2_B12.tar.gz ...\n",
            "Downloading ref_south_africa_crops_competition_v1_train_source_s2_CLM.tar.gz ...\n"
          ]
        },
        {
          "data": {
            "application/vnd.jupyter.widget-view+json": {
              "model_id": "27aa29faaabc4ff29fe2fffeebc5af57",
              "version_major": 2,
              "version_minor": 0
            },
            "text/plain": [
              "  0%|          | 0/24.3 [00:00<?, ?M/s]"
            ]
          },
          "metadata": {},
          "output_type": "display_data"
        },
        {
          "name": "stdout",
          "output_type": "stream",
          "text": [
            "Extracting ref_south_africa_crops_competition_v1_train_source_s2_CLM.tar.gz ...\n",
            "Downloading ref_south_africa_crops_competition_v1_test_labels.tar.gz ...\n"
          ]
        },
        {
          "data": {
            "application/vnd.jupyter.widget-view+json": {
              "model_id": "2b71bc10c8f148918af08b739254016e",
              "version_major": 2,
              "version_minor": 0
            },
            "text/plain": [
              "  0%|          | 0/10.9 [00:00<?, ?M/s]"
            ]
          },
          "metadata": {},
          "output_type": "display_data"
        },
        {
          "name": "stdout",
          "output_type": "stream",
          "text": [
            "Extracting ref_south_africa_crops_competition_v1_test_labels.tar.gz ...\n",
            "Downloading ref_south_africa_crops_competition_v1_test_source_s2_B01.tar.gz ...\n"
          ]
        },
        {
          "data": {
            "application/vnd.jupyter.widget-view+json": {
              "model_id": "e6d0c6b2aebd4d6fb7df63e7866ae68a",
              "version_major": 2,
              "version_minor": 0
            },
            "text/plain": [
              "  0%|          | 0/713.1 [00:00<?, ?M/s]"
            ]
          },
          "metadata": {},
          "output_type": "display_data"
        },
        {
          "name": "stdout",
          "output_type": "stream",
          "text": [
            "Extracting ref_south_africa_crops_competition_v1_test_source_s2_B01.tar.gz ...\n",
            "Downloading ref_south_africa_crops_competition_v1_test_source_s2_B02.tar.gz ...\n"
          ]
        },
        {
          "data": {
            "application/vnd.jupyter.widget-view+json": {
              "model_id": "ccc0c8f34d6d4e3b9d94ef2e88848367",
              "version_major": 2,
              "version_minor": 0
            },
            "text/plain": [
              "  0%|          | 0/2226.4 [00:00<?, ?M/s]"
            ]
          },
          "metadata": {},
          "output_type": "display_data"
        },
        {
          "name": "stdout",
          "output_type": "stream",
          "text": [
            "Extracting ref_south_africa_crops_competition_v1_test_source_s2_B02.tar.gz ...\n",
            "Downloading ref_south_africa_crops_competition_v1_test_source_s2_B03.tar.gz ...\n"
          ]
        },
        {
          "data": {
            "application/vnd.jupyter.widget-view+json": {
              "model_id": "37264e73025f4a05b0d58f6d97099a1c",
              "version_major": 2,
              "version_minor": 0
            },
            "text/plain": [
              "  0%|          | 0/2454.4 [00:00<?, ?M/s]"
            ]
          },
          "metadata": {},
          "output_type": "display_data"
        },
        {
          "name": "stdout",
          "output_type": "stream",
          "text": [
            "Extracting ref_south_africa_crops_competition_v1_test_source_s2_B03.tar.gz ...\n",
            "Downloading ref_south_africa_crops_competition_v1_test_source_s2_B04.tar.gz ...\n"
          ]
        },
        {
          "data": {
            "application/vnd.jupyter.widget-view+json": {
              "model_id": "d801acaaac0242a589ed9113849bcb56",
              "version_major": 2,
              "version_minor": 0
            },
            "text/plain": [
              "  0%|          | 0/2706.0 [00:00<?, ?M/s]"
            ]
          },
          "metadata": {},
          "output_type": "display_data"
        },
        {
          "name": "stdout",
          "output_type": "stream",
          "text": [
            "Extracting ref_south_africa_crops_competition_v1_test_source_s2_B04.tar.gz ...\n",
            "Downloading ref_south_africa_crops_competition_v1_test_source_s2_B05.tar.gz ...\n"
          ]
        },
        {
          "data": {
            "application/vnd.jupyter.widget-view+json": {
              "model_id": "18310d37c6b3496699151ff446d99126",
              "version_major": 2,
              "version_minor": 0
            },
            "text/plain": [
              "  0%|          | 0/1930.4 [00:00<?, ?M/s]"
            ]
          },
          "metadata": {},
          "output_type": "display_data"
        },
        {
          "name": "stdout",
          "output_type": "stream",
          "text": [
            "Extracting ref_south_africa_crops_competition_v1_test_source_s2_B05.tar.gz ...\n",
            "Downloading ref_south_africa_crops_competition_v1_test_source_s2_B06.tar.gz ...\n"
          ]
        },
        {
          "data": {
            "application/vnd.jupyter.widget-view+json": {
              "model_id": "4177fc59621b4b29bad920acb06b1b6c",
              "version_major": 2,
              "version_minor": 0
            },
            "text/plain": [
              "  0%|          | 0/1980.9 [00:00<?, ?M/s]"
            ]
          },
          "metadata": {},
          "output_type": "display_data"
        },
        {
          "name": "stdout",
          "output_type": "stream",
          "text": [
            "Extracting ref_south_africa_crops_competition_v1_test_source_s2_B06.tar.gz ...\n",
            "Downloading ref_south_africa_crops_competition_v1_test_source_s2_B07.tar.gz ...\n"
          ]
        },
        {
          "data": {
            "application/vnd.jupyter.widget-view+json": {
              "model_id": "25626fc52d2a45aea202279478c1a72e",
              "version_major": 2,
              "version_minor": 0
            },
            "text/plain": [
              "  0%|          | 0/2002.0 [00:00<?, ?M/s]"
            ]
          },
          "metadata": {},
          "output_type": "display_data"
        },
        {
          "name": "stdout",
          "output_type": "stream",
          "text": [
            "Extracting ref_south_africa_crops_competition_v1_test_source_s2_B07.tar.gz ...\n",
            "Downloading ref_south_africa_crops_competition_v1_test_source_s2_B08.tar.gz ...\n"
          ]
        },
        {
          "data": {
            "application/vnd.jupyter.widget-view+json": {
              "model_id": "c4fef60e3c5e4d14825764c16674e751",
              "version_major": 2,
              "version_minor": 0
            },
            "text/plain": [
              "  0%|          | 0/2877.3 [00:00<?, ?M/s]"
            ]
          },
          "metadata": {},
          "output_type": "display_data"
        },
        {
          "name": "stdout",
          "output_type": "stream",
          "text": [
            "Extracting ref_south_africa_crops_competition_v1_test_source_s2_B08.tar.gz ...\n",
            "Downloading ref_south_africa_crops_competition_v1_test_source_s2_B8A.tar.gz ...\n"
          ]
        },
        {
          "data": {
            "application/vnd.jupyter.widget-view+json": {
              "model_id": "bc076fc821d740f594fe21313353d218",
              "version_major": 2,
              "version_minor": 0
            },
            "text/plain": [
              "  0%|          | 0/2003.0 [00:00<?, ?M/s]"
            ]
          },
          "metadata": {},
          "output_type": "display_data"
        },
        {
          "name": "stdout",
          "output_type": "stream",
          "text": [
            "Extracting ref_south_africa_crops_competition_v1_test_source_s2_B8A.tar.gz ...\n",
            "Downloading ref_south_africa_crops_competition_v1_test_source_s2_B09.tar.gz ...\n"
          ]
        },
        {
          "data": {
            "application/vnd.jupyter.widget-view+json": {
              "model_id": "a966ebd487244e73b609b886d2546b37",
              "version_major": 2,
              "version_minor": 0
            },
            "text/plain": [
              "  0%|          | 0/910.7 [00:00<?, ?M/s]"
            ]
          },
          "metadata": {},
          "output_type": "display_data"
        },
        {
          "name": "stdout",
          "output_type": "stream",
          "text": [
            "Extracting ref_south_africa_crops_competition_v1_test_source_s2_B09.tar.gz ...\n",
            "Downloading ref_south_africa_crops_competition_v1_test_source_s2_B11.tar.gz ...\n"
          ]
        },
        {
          "data": {
            "application/vnd.jupyter.widget-view+json": {
              "model_id": "a45de88a061c4e298107ba716c506f59",
              "version_major": 2,
              "version_minor": 0
            },
            "text/plain": [
              "  0%|          | 0/1950.2 [00:00<?, ?M/s]"
            ]
          },
          "metadata": {},
          "output_type": "display_data"
        },
        {
          "name": "stdout",
          "output_type": "stream",
          "text": [
            "Extracting ref_south_africa_crops_competition_v1_test_source_s2_B11.tar.gz ...\n",
            "Downloading ref_south_africa_crops_competition_v1_test_source_s2_B12.tar.gz ...\n"
          ]
        },
        {
          "data": {
            "application/vnd.jupyter.widget-view+json": {
              "model_id": "18554b472a2340aba2fa188182be602d",
              "version_major": 2,
              "version_minor": 0
            },
            "text/plain": [
              "  0%|          | 0/1922.3 [00:00<?, ?M/s]"
            ]
          },
          "metadata": {},
          "output_type": "display_data"
        },
        {
          "name": "stdout",
          "output_type": "stream",
          "text": [
            "Extracting ref_south_africa_crops_competition_v1_test_source_s2_B12.tar.gz ...\n",
            "Downloading ref_south_africa_crops_competition_v1_test_source_s2_CLM.tar.gz ...\n"
          ]
        },
        {
          "data": {
            "application/vnd.jupyter.widget-view+json": {
              "model_id": "6fbaed00a2004e6c92fa0a4772db11e6",
              "version_major": 2,
              "version_minor": 0
            },
            "text/plain": [
              "  0%|          | 0/10.4 [00:00<?, ?M/s]"
            ]
          },
          "metadata": {},
          "output_type": "display_data"
        },
        {
          "name": "stdout",
          "output_type": "stream",
          "text": [
            "Extracting ref_south_africa_crops_competition_v1_test_source_s2_CLM.tar.gz ...\n"
          ]
        }
      ]
    },
    {
      "cell_type": "code",
      "metadata": {
        "id": "K4OtbNV-_dzX"
      },
      "source": [
        "def resolve_path(base, path):\n",
        "    return Path(os.path.join(base, path)).resolve()\n",
        "        \n",
        "def load_df(collection_id):\n",
        "    split = collection_id.split('_')[-2]\n",
        "    collection = json.load(open(f'{collection_id}/collection.json', 'r'))\n",
        "    rows = []\n",
        "    item_links = []\n",
        "    for link in collection['links']:\n",
        "        if link['rel'] != 'item':\n",
        "            continue\n",
        "        item_links.append(link['href'])\n",
        "        \n",
        "    for item_link in item_links:\n",
        "        item_path = f'{collection_id}/{item_link}'\n",
        "        current_path = os.path.dirname(item_path)\n",
        "        item = json.load(open(item_path, 'r'))\n",
        "        tile_id = item['id'].split('_')[-1]\n",
        "        for asset_key, asset in item['assets'].items():\n",
        "            rows.append([\n",
        "                tile_id,\n",
        "                None,\n",
        "                None,\n",
        "                asset_key,\n",
        "                str(resolve_path(current_path, asset['href']))\n",
        "            ])\n",
        "            \n",
        "        for link in item['links']:\n",
        "            if link['rel'] != 'source':\n",
        "                continue\n",
        "            source_item_id = link['href'].split('/')[-2]\n",
        "            \n",
        "            if source_item_id.find('_s1_') > 0 and not DOWNLOAD_S1:\n",
        "                continue\n",
        "            elif source_item_id.find('_s1_') > 0:\n",
        "                for band in ['VV', 'VH']:\n",
        "                    asset_path = Path(f'{FOLDER_BASE}_{split}_source_s1/{source_item_id}/{band}.tif').resolve()\n",
        "                    date = '-'.join(source_item_id.split('_')[10:13])\n",
        "                    \n",
        "                    rows.append([\n",
        "                        tile_id,\n",
        "                        f'{date}T00:00:00Z',\n",
        "                        's1',\n",
        "                        band,\n",
        "                        asset_path\n",
        "                    ])\n",
        "                \n",
        "            if source_item_id.find('_s2_') > 0:\n",
        "                for band, download in DOWNLOAD_BANDS.items():\n",
        "                    if not download:\n",
        "                        continue\n",
        "                    \n",
        "                    asset_path = Path(f'{FOLDER_BASE}_{split}_source_s2_{band}/{source_item_id}_{band}.tif').resolve()\n",
        "                    date = '-'.join(source_item_id.split('_')[10:13])\n",
        "                    rows.append([\n",
        "                        tile_id,\n",
        "                        f'{date}T00:00:00Z',\n",
        "                        's2',\n",
        "                        band,\n",
        "                        asset_path\n",
        "                    ])\n",
        "            \n",
        "    return pd.DataFrame(rows, columns=['tile_id', 'datetime', 'satellite_platform', 'asset', 'file_path'])\n"
      ],
      "execution_count": null,
      "outputs": []
    },
    {
      "cell_type": "code",
      "metadata": {
        "id": "dIIBlB4K_dzZ"
      },
      "source": [
        "train_df = load_df(f'{FOLDER_BASE}_train_labels')\n",
        "test_df = load_df(f'{FOLDER_BASE}_test_labels')"
      ],
      "execution_count": null,
      "outputs": []
    },
    {
      "cell_type": "code",
      "metadata": {
        "id": "G-cWiPW5_dzZ",
        "outputId": "bac4731c-7a33-4403-d588-8c39c54dfa91"
      },
      "source": [
        "train_df.shape"
      ],
      "execution_count": null,
      "outputs": [
        {
          "data": {
            "text/plain": [
              "(1891308, 5)"
            ]
          },
          "execution_count": 7,
          "metadata": {},
          "output_type": "execute_result"
        }
      ]
    },
    {
      "cell_type": "code",
      "metadata": {
        "id": "UXMDjRYi_dza"
      },
      "source": [
        "train_df.to_csv('train_data_sentinel2.csv',index=False)\n",
        "test_df.to_csv('test_data_sentinel2.csv',index=False)"
      ],
      "execution_count": null,
      "outputs": []
    },
    {
      "cell_type": "code",
      "metadata": {
        "id": "YIyQb4x9_dzb"
      },
      "source": [
        ""
      ],
      "execution_count": null,
      "outputs": []
    },
    {
      "cell_type": "code",
      "metadata": {
        "id": "RIoA60wi_dzc"
      },
      "source": [
        ""
      ],
      "execution_count": null,
      "outputs": []
    }
  ]
}